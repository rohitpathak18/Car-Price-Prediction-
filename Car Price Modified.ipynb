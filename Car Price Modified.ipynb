{
 "cells": [
  {
   "cell_type": "code",
   "execution_count": 1,
   "metadata": {},
   "outputs": [],
   "source": [
    "#Imporitng libraries\n",
    "import pandas as pd\n",
    "import numpy as np\n",
    "import matplotlib.pyplot as plt\n",
    "import seaborn as sns\n",
    "import sklearn\n",
    "import pickle\n",
    "from pylab import rcParams\n",
    "sns.set()\n",
    "rcParams[\"figure.figsize\"] = (10, 6)"
   ]
  },
  {
   "cell_type": "code",
   "execution_count": 2,
   "metadata": {},
   "outputs": [],
   "source": [
    "#Loading the Dataset\n",
    "df = pd.read_csv('Car details v3.csv')"
   ]
  },
  {
   "cell_type": "code",
   "execution_count": 3,
   "metadata": {},
   "outputs": [
    {
     "data": {
      "text/html": [
       "<div>\n",
       "<style scoped>\n",
       "    .dataframe tbody tr th:only-of-type {\n",
       "        vertical-align: middle;\n",
       "    }\n",
       "\n",
       "    .dataframe tbody tr th {\n",
       "        vertical-align: top;\n",
       "    }\n",
       "\n",
       "    .dataframe thead th {\n",
       "        text-align: right;\n",
       "    }\n",
       "</style>\n",
       "<table border=\"1\" class=\"dataframe\">\n",
       "  <thead>\n",
       "    <tr style=\"text-align: right;\">\n",
       "      <th></th>\n",
       "      <th>name</th>\n",
       "      <th>year</th>\n",
       "      <th>selling_price</th>\n",
       "      <th>km_driven</th>\n",
       "      <th>fuel</th>\n",
       "      <th>seller_type</th>\n",
       "      <th>transmission</th>\n",
       "      <th>owner</th>\n",
       "      <th>mileage</th>\n",
       "      <th>engine</th>\n",
       "      <th>max_power</th>\n",
       "      <th>torque</th>\n",
       "      <th>seats</th>\n",
       "    </tr>\n",
       "  </thead>\n",
       "  <tbody>\n",
       "    <tr>\n",
       "      <th>0</th>\n",
       "      <td>Maruti Swift Dzire VDI</td>\n",
       "      <td>2014</td>\n",
       "      <td>450000</td>\n",
       "      <td>145500</td>\n",
       "      <td>Diesel</td>\n",
       "      <td>Individual</td>\n",
       "      <td>Manual</td>\n",
       "      <td>First Owner</td>\n",
       "      <td>23.4 kmpl</td>\n",
       "      <td>1248 CC</td>\n",
       "      <td>74 bhp</td>\n",
       "      <td>190Nm@ 2000rpm</td>\n",
       "      <td>5.0</td>\n",
       "    </tr>\n",
       "    <tr>\n",
       "      <th>1</th>\n",
       "      <td>Skoda Rapid 1.5 TDI Ambition</td>\n",
       "      <td>2014</td>\n",
       "      <td>370000</td>\n",
       "      <td>120000</td>\n",
       "      <td>Diesel</td>\n",
       "      <td>Individual</td>\n",
       "      <td>Manual</td>\n",
       "      <td>Second Owner</td>\n",
       "      <td>21.14 kmpl</td>\n",
       "      <td>1498 CC</td>\n",
       "      <td>103.52 bhp</td>\n",
       "      <td>250Nm@ 1500-2500rpm</td>\n",
       "      <td>5.0</td>\n",
       "    </tr>\n",
       "    <tr>\n",
       "      <th>2</th>\n",
       "      <td>Honda City 2017-2020 EXi</td>\n",
       "      <td>2006</td>\n",
       "      <td>158000</td>\n",
       "      <td>140000</td>\n",
       "      <td>Petrol</td>\n",
       "      <td>Individual</td>\n",
       "      <td>Manual</td>\n",
       "      <td>Third Owner</td>\n",
       "      <td>17.7 kmpl</td>\n",
       "      <td>1497 CC</td>\n",
       "      <td>78 bhp</td>\n",
       "      <td>12.7@ 2,700(kgm@ rpm)</td>\n",
       "      <td>5.0</td>\n",
       "    </tr>\n",
       "    <tr>\n",
       "      <th>3</th>\n",
       "      <td>Hyundai i20 Sportz Diesel</td>\n",
       "      <td>2010</td>\n",
       "      <td>225000</td>\n",
       "      <td>127000</td>\n",
       "      <td>Diesel</td>\n",
       "      <td>Individual</td>\n",
       "      <td>Manual</td>\n",
       "      <td>First Owner</td>\n",
       "      <td>23.0 kmpl</td>\n",
       "      <td>1396 CC</td>\n",
       "      <td>90 bhp</td>\n",
       "      <td>22.4 kgm at 1750-2750rpm</td>\n",
       "      <td>5.0</td>\n",
       "    </tr>\n",
       "    <tr>\n",
       "      <th>4</th>\n",
       "      <td>Maruti Swift VXI BSIII</td>\n",
       "      <td>2007</td>\n",
       "      <td>130000</td>\n",
       "      <td>120000</td>\n",
       "      <td>Petrol</td>\n",
       "      <td>Individual</td>\n",
       "      <td>Manual</td>\n",
       "      <td>First Owner</td>\n",
       "      <td>16.1 kmpl</td>\n",
       "      <td>1298 CC</td>\n",
       "      <td>88.2 bhp</td>\n",
       "      <td>11.5@ 4,500(kgm@ rpm)</td>\n",
       "      <td>5.0</td>\n",
       "    </tr>\n",
       "  </tbody>\n",
       "</table>\n",
       "</div>"
      ],
      "text/plain": [
       "                           name  year  selling_price  km_driven    fuel  \\\n",
       "0        Maruti Swift Dzire VDI  2014         450000     145500  Diesel   \n",
       "1  Skoda Rapid 1.5 TDI Ambition  2014         370000     120000  Diesel   \n",
       "2      Honda City 2017-2020 EXi  2006         158000     140000  Petrol   \n",
       "3     Hyundai i20 Sportz Diesel  2010         225000     127000  Diesel   \n",
       "4        Maruti Swift VXI BSIII  2007         130000     120000  Petrol   \n",
       "\n",
       "  seller_type transmission         owner     mileage   engine   max_power  \\\n",
       "0  Individual       Manual   First Owner   23.4 kmpl  1248 CC      74 bhp   \n",
       "1  Individual       Manual  Second Owner  21.14 kmpl  1498 CC  103.52 bhp   \n",
       "2  Individual       Manual   Third Owner   17.7 kmpl  1497 CC      78 bhp   \n",
       "3  Individual       Manual   First Owner   23.0 kmpl  1396 CC      90 bhp   \n",
       "4  Individual       Manual   First Owner   16.1 kmpl  1298 CC    88.2 bhp   \n",
       "\n",
       "                     torque  seats  \n",
       "0            190Nm@ 2000rpm    5.0  \n",
       "1       250Nm@ 1500-2500rpm    5.0  \n",
       "2     12.7@ 2,700(kgm@ rpm)    5.0  \n",
       "3  22.4 kgm at 1750-2750rpm    5.0  \n",
       "4     11.5@ 4,500(kgm@ rpm)    5.0  "
      ]
     },
     "execution_count": 3,
     "metadata": {},
     "output_type": "execute_result"
    }
   ],
   "source": [
    "df.head()"
   ]
  },
  {
   "cell_type": "code",
   "execution_count": 4,
   "metadata": {},
   "outputs": [
    {
     "data": {
      "text/plain": [
       "(8128, 13)"
      ]
     },
     "execution_count": 4,
     "metadata": {},
     "output_type": "execute_result"
    }
   ],
   "source": [
    "df.shape"
   ]
  },
  {
   "cell_type": "code",
   "execution_count": 5,
   "metadata": {},
   "outputs": [
    {
     "name": "stdout",
     "output_type": "stream",
     "text": [
      "<class 'pandas.core.frame.DataFrame'>\n",
      "RangeIndex: 8128 entries, 0 to 8127\n",
      "Data columns (total 13 columns):\n",
      " #   Column         Non-Null Count  Dtype  \n",
      "---  ------         --------------  -----  \n",
      " 0   name           8128 non-null   object \n",
      " 1   year           8128 non-null   int64  \n",
      " 2   selling_price  8128 non-null   int64  \n",
      " 3   km_driven      8128 non-null   int64  \n",
      " 4   fuel           8128 non-null   object \n",
      " 5   seller_type    8128 non-null   object \n",
      " 6   transmission   8128 non-null   object \n",
      " 7   owner          8128 non-null   object \n",
      " 8   mileage        7907 non-null   object \n",
      " 9   engine         7907 non-null   object \n",
      " 10  max_power      7913 non-null   object \n",
      " 11  torque         7906 non-null   object \n",
      " 12  seats          7907 non-null   float64\n",
      "dtypes: float64(1), int64(3), object(9)\n",
      "memory usage: 825.6+ KB\n"
     ]
    }
   ],
   "source": [
    "df.info()"
   ]
  },
  {
   "cell_type": "code",
   "execution_count": 6,
   "metadata": {
    "scrolled": true
   },
   "outputs": [
    {
     "data": {
      "text/html": [
       "<div>\n",
       "<style scoped>\n",
       "    .dataframe tbody tr th:only-of-type {\n",
       "        vertical-align: middle;\n",
       "    }\n",
       "\n",
       "    .dataframe tbody tr th {\n",
       "        vertical-align: top;\n",
       "    }\n",
       "\n",
       "    .dataframe thead th {\n",
       "        text-align: right;\n",
       "    }\n",
       "</style>\n",
       "<table border=\"1\" class=\"dataframe\">\n",
       "  <thead>\n",
       "    <tr style=\"text-align: right;\">\n",
       "      <th></th>\n",
       "      <th>year</th>\n",
       "      <th>selling_price</th>\n",
       "      <th>km_driven</th>\n",
       "      <th>seats</th>\n",
       "    </tr>\n",
       "  </thead>\n",
       "  <tbody>\n",
       "    <tr>\n",
       "      <th>count</th>\n",
       "      <td>8128.000000</td>\n",
       "      <td>8.128000e+03</td>\n",
       "      <td>8.128000e+03</td>\n",
       "      <td>7907.000000</td>\n",
       "    </tr>\n",
       "    <tr>\n",
       "      <th>mean</th>\n",
       "      <td>2013.804011</td>\n",
       "      <td>6.382718e+05</td>\n",
       "      <td>6.981951e+04</td>\n",
       "      <td>5.416719</td>\n",
       "    </tr>\n",
       "    <tr>\n",
       "      <th>std</th>\n",
       "      <td>4.044249</td>\n",
       "      <td>8.062534e+05</td>\n",
       "      <td>5.655055e+04</td>\n",
       "      <td>0.959588</td>\n",
       "    </tr>\n",
       "    <tr>\n",
       "      <th>min</th>\n",
       "      <td>1983.000000</td>\n",
       "      <td>2.999900e+04</td>\n",
       "      <td>1.000000e+00</td>\n",
       "      <td>2.000000</td>\n",
       "    </tr>\n",
       "    <tr>\n",
       "      <th>25%</th>\n",
       "      <td>2011.000000</td>\n",
       "      <td>2.549990e+05</td>\n",
       "      <td>3.500000e+04</td>\n",
       "      <td>5.000000</td>\n",
       "    </tr>\n",
       "    <tr>\n",
       "      <th>50%</th>\n",
       "      <td>2015.000000</td>\n",
       "      <td>4.500000e+05</td>\n",
       "      <td>6.000000e+04</td>\n",
       "      <td>5.000000</td>\n",
       "    </tr>\n",
       "    <tr>\n",
       "      <th>75%</th>\n",
       "      <td>2017.000000</td>\n",
       "      <td>6.750000e+05</td>\n",
       "      <td>9.800000e+04</td>\n",
       "      <td>5.000000</td>\n",
       "    </tr>\n",
       "    <tr>\n",
       "      <th>max</th>\n",
       "      <td>2020.000000</td>\n",
       "      <td>1.000000e+07</td>\n",
       "      <td>2.360457e+06</td>\n",
       "      <td>14.000000</td>\n",
       "    </tr>\n",
       "  </tbody>\n",
       "</table>\n",
       "</div>"
      ],
      "text/plain": [
       "              year  selling_price     km_driven        seats\n",
       "count  8128.000000   8.128000e+03  8.128000e+03  7907.000000\n",
       "mean   2013.804011   6.382718e+05  6.981951e+04     5.416719\n",
       "std       4.044249   8.062534e+05  5.655055e+04     0.959588\n",
       "min    1983.000000   2.999900e+04  1.000000e+00     2.000000\n",
       "25%    2011.000000   2.549990e+05  3.500000e+04     5.000000\n",
       "50%    2015.000000   4.500000e+05  6.000000e+04     5.000000\n",
       "75%    2017.000000   6.750000e+05  9.800000e+04     5.000000\n",
       "max    2020.000000   1.000000e+07  2.360457e+06    14.000000"
      ]
     },
     "execution_count": 6,
     "metadata": {},
     "output_type": "execute_result"
    }
   ],
   "source": [
    "df.describe()"
   ]
  },
  {
   "cell_type": "markdown",
   "metadata": {},
   "source": [
    "## EDA"
   ]
  },
  {
   "cell_type": "code",
   "execution_count": 7,
   "metadata": {},
   "outputs": [
    {
     "data": {
      "text/plain": [
       "name               0\n",
       "year               0\n",
       "selling_price      0\n",
       "km_driven          0\n",
       "fuel               0\n",
       "seller_type        0\n",
       "transmission       0\n",
       "owner              0\n",
       "mileage          221\n",
       "engine           221\n",
       "max_power        215\n",
       "torque           222\n",
       "seats            221\n",
       "dtype: int64"
      ]
     },
     "execution_count": 7,
     "metadata": {},
     "output_type": "execute_result"
    }
   ],
   "source": [
    "df.isna().sum()"
   ]
  },
  {
   "cell_type": "code",
   "execution_count": 8,
   "metadata": {},
   "outputs": [
    {
     "data": {
      "text/plain": [
       "array(['1248 CC', '1498 CC', '1497 CC', '1396 CC', '1298 CC', '1197 CC',\n",
       "       '1061 CC', '796 CC', '1364 CC', '1399 CC', '1461 CC', '993 CC',\n",
       "       nan, '1198 CC', '1199 CC', '998 CC', '1591 CC', '2179 CC',\n",
       "       '1368 CC', '2982 CC', '2494 CC', '2143 CC', '2477 CC', '1462 CC',\n",
       "       '2755 CC', '1968 CC', '1798 CC', '1196 CC', '1373 CC', '1598 CC',\n",
       "       '1998 CC', '1086 CC', '1194 CC', '1172 CC', '1405 CC', '1582 CC',\n",
       "       '999 CC', '2487 CC', '1999 CC', '3604 CC', '2987 CC', '1995 CC',\n",
       "       '1451 CC', '1969 CC', '2967 CC', '2497 CC', '1797 CC', '1991 CC',\n",
       "       '2362 CC', '1493 CC', '1599 CC', '1341 CC', '1794 CC', '799 CC',\n",
       "       '1193 CC', '2696 CC', '1495 CC', '1186 CC', '1047 CC', '2498 CC',\n",
       "       '2956 CC', '2523 CC', '1120 CC', '624 CC', '1496 CC', '1984 CC',\n",
       "       '2354 CC', '814 CC', '793 CC', '1799 CC', '936 CC', '1956 CC',\n",
       "       '1997 CC', '1499 CC', '1948 CC', '2997 CC', '2489 CC', '2499 CC',\n",
       "       '2609 CC', '2953 CC', '1150 CC', '1994 CC', '1388 CC', '1527 CC',\n",
       "       '2199 CC', '995 CC', '2993 CC', '1586 CC', '1390 CC', '909 CC',\n",
       "       '2393 CC', '3198 CC', '1339 CC', '2835 CC', '2092 CC', '1595 CC',\n",
       "       '2496 CC', '1596 CC', '1597 CC', '2596 CC', '2148 CC', '1299 CC',\n",
       "       '1590 CC', '2231 CC', '2694 CC', '2200 CC', '1795 CC', '1896 CC',\n",
       "       '1796 CC', '1422 CC', '1489 CC', '2359 CC', '2197 CC', '2999 CC',\n",
       "       '1781 CC', '2650 CC', '1343 CC', '2446 CC', '3498 CC', '2198 CC',\n",
       "       '2776 CC', '1950 CC'], dtype=object)"
      ]
     },
     "execution_count": 8,
     "metadata": {},
     "output_type": "execute_result"
    }
   ],
   "source": [
    "df.engine.unique()"
   ]
  },
  {
   "cell_type": "code",
   "execution_count": 9,
   "metadata": {},
   "outputs": [
    {
     "data": {
      "text/plain": [
       "array(['23.4 kmpl', '21.14 kmpl', '17.7 kmpl', '23.0 kmpl', '16.1 kmpl',\n",
       "       '20.14 kmpl', '17.3 km/kg', '23.59 kmpl', '20.0 kmpl',\n",
       "       '19.01 kmpl', '17.3 kmpl', '19.3 kmpl', nan, '18.9 kmpl',\n",
       "       '18.15 kmpl', '24.52 kmpl', '19.7 kmpl', '22.54 kmpl', '21.0 kmpl',\n",
       "       '25.5 kmpl', '26.59 kmpl', '21.5 kmpl', '20.3 kmpl', '21.4 kmpl',\n",
       "       '24.7 kmpl', '18.2 kmpl', '16.8 kmpl', '24.3 kmpl', '14.0 kmpl',\n",
       "       '18.6 kmpl', '33.44 km/kg', '23.95 kmpl', '17.0 kmpl',\n",
       "       '20.63 kmpl', '13.93 kmpl', '16.0 kmpl', '17.8 kmpl', '18.5 kmpl',\n",
       "       '12.55 kmpl', '12.99 kmpl', '14.8 kmpl', '13.5 kmpl', '26.0 kmpl',\n",
       "       '20.65 kmpl', '27.3 kmpl', '11.36 kmpl', '17.68 kmpl',\n",
       "       '14.28 kmpl', '18.53 kmpl', '14.84 kmpl', '21.12 kmpl',\n",
       "       '20.36 kmpl', '21.27 kmpl', '18.16 kmpl', '22.0 kmpl', '25.1 kmpl',\n",
       "       '20.51 kmpl', '21.66 kmpl', '25.2 kmpl', '22.9 kmpl', '16.02 kmpl',\n",
       "       '20.54 kmpl', '22.77 kmpl', '15.71 kmpl', '23.1 kmpl',\n",
       "       '19.02 kmpl', '19.81 kmpl', '26.2 km/kg', '16.47 kmpl',\n",
       "       '15.04 kmpl', '19.1 kmpl', '21.79 kmpl', '18.8 kmpl', '21.21 kmpl',\n",
       "       '15.37 kmpl', '11.79 kmpl', '19.0 kmpl', '14.3 kmpl', '15.8 kmpl',\n",
       "       '15.1 kmpl', '19.09 kmpl', '22.32 kmpl', '21.9 kmpl', '14.53 kmpl',\n",
       "       '21.63 kmpl', '20.85 kmpl', '20.45 kmpl', '19.67 kmpl',\n",
       "       '23.01 kmpl', '20.77 kmpl', '17.92 kmpl', '17.01 kmpl',\n",
       "       '22.37 kmpl', '19.33 kmpl', '9.5 kmpl', '12.83 kmpl', '22.48 kmpl',\n",
       "       '16.78 kmpl', '14.67 kmpl', '15.0 kmpl', '13.96 kmpl', '18.0 kmpl',\n",
       "       '12.07 kmpl', '26.21 kmpl', '10.8 kmpl', '16.3 kmpl', '13.6 kmpl',\n",
       "       '14.74 kmpl', '15.6 kmpl', '19.56 kmpl', '22.69 kmpl',\n",
       "       '19.16 kmpl', '18.12 kmpl', '12.1 kmpl', '17.5 kmpl', '42.0 kmpl',\n",
       "       '20.4 kmpl', '21.1 kmpl', '19.44 kmpl', '13.0 kmpl', '21.43 kmpl',\n",
       "       '22.95 kmpl', '16.2 kmpl', '15.3 kmpl', '28.09 kmpl', '17.4 kmpl',\n",
       "       '19.4 kmpl', '26.6 km/kg', '17.6 kmpl', '28.4 kmpl', '14.1 kmpl',\n",
       "       '25.17 kmpl', '22.74 kmpl', '17.57 kmpl', '16.95 kmpl',\n",
       "       '19.49 kmpl', '17.21 kmpl', '13.2 kmpl', '14.2 kmpl', '26.8 kmpl',\n",
       "       '25.4 kmpl', '11.5 kmpl', '27.28 kmpl', '17.97 kmpl', '12.8 kmpl',\n",
       "       '16.55 kmpl', '12.05 kmpl', '14.07 kmpl', '21.02 kmpl',\n",
       "       '11.57 kmpl', '17.9 kmpl', '15.96 kmpl', '17.1 kmpl', '17.19 kmpl',\n",
       "       '21.01 kmpl', '24.0 kmpl', '25.6 kmpl', '21.38 kmpl', '23.84 kmpl',\n",
       "       '23.08 kmpl', '14.24 kmpl', '20.71 kmpl', '15.64 kmpl',\n",
       "       '14.5 kmpl', '16.34 kmpl', '27.39 kmpl', '11.1 kmpl', '13.9 kmpl',\n",
       "       '20.88 km/kg', '20.92 kmpl', '23.8 kmpl', '24.4 kmpl',\n",
       "       '15.29 kmpl', '21.19 kmpl', '22.5 kmpl', '19.6 kmpl', '23.65 kmpl',\n",
       "       '25.32 kmpl', '23.5 kmpl', '16.6 kmpl', '23.9 kmpl', '20.8 kmpl',\n",
       "       '27.62 kmpl', '12.9 kmpl', '25.44 kmpl', '17.88 kmpl', '22.7 kmpl',\n",
       "       '17.2 kmpl', '15.42 kmpl', '19.68 kmpl', '18.7 kmpl', '15.4 kmpl',\n",
       "       '19.34 kmpl', '22.71 kmpl', '25.8 kmpl', '13.7 kmpl', '12.2 kmpl',\n",
       "       '18.49 kmpl', '9.0 kmpl', '0.0 kmpl', '13.58 kmpl', '10.1 kmpl',\n",
       "       '20.5 kmpl', '25.0 kmpl', '10.5 kmpl', '22.07 kmpl', '22.3 kmpl',\n",
       "       '15.26 kmpl', '20.62 kmpl', '27.4 kmpl', '23.2 kmpl', '14.4 kmpl',\n",
       "       '18.4 kmpl', '30.46 km/kg', '14.02 kmpl', '11.0 kmpl', '20.6 kmpl',\n",
       "       '22.05 kmpl', '20.2 kmpl', '18.1 kmpl', '22.1 kmpl', '19.87 kmpl',\n",
       "       '13.01 kmpl', '18.06 kmpl', '26.1 kmpl', '16.52 kmpl',\n",
       "       '13.55 kmpl', '24.2 kmpl', '25.83 kmpl', '11.2 kmpl', '17.09 kmpl',\n",
       "       '21.03 kmpl', '17.45 kmpl', '21.64 kmpl', '21.94 km/kg',\n",
       "       '13.87 kmpl', '19.98 kmpl', '20.52 kmpl', '23.57 kmpl',\n",
       "       '11.7 kmpl', '17.43 kmpl', '18.88 kmpl', '13.68 kmpl',\n",
       "       '11.18 kmpl', '20.89 kmpl', '11.8 kmpl', '19.62 kmpl', '21.7 kmpl',\n",
       "       '14.9 kmpl', '19.5 kmpl', '10.91 kmpl', '15.7 kmpl', '20.73 kmpl',\n",
       "       '15.85 kmpl', '20.7 kmpl', '14.23 kmpl', '16.5 kmpl', '17.36 kmpl',\n",
       "       '12.6 kmpl', '16.36 kmpl', '14.95 kmpl', '16.9 kmpl', '19.2 kmpl',\n",
       "       '16.96 kmpl', '22.15 kmpl', '18.78 kmpl', '19.61 kmpl',\n",
       "       '17.71 kmpl', '18.3 kmpl', '19.12 kmpl', '19.72 kmpl', '12.0 kmpl',\n",
       "       '11.4 kmpl', '23.03 kmpl', '11.07 kmpl', '15.9 kmpl', '17.67 kmpl',\n",
       "       '20.46 kmpl', '13.1 kmpl', '13.45 km/kg', '24.8 kmpl',\n",
       "       '15.73 kmpl', '15.11 kmpl', '12.7 kmpl', '21.2 kmpl', '20.38 kmpl',\n",
       "       '21.56 kmpl', '13.22 kmpl', '14.49 kmpl', '15.05 kmpl',\n",
       "       '23.26 kmpl', '15.41 kmpl', '13.8 kmpl', '22.27 kmpl',\n",
       "       '32.52 km/kg', '14.66 kmpl', '12.12 kmpl', '16.84 kmpl',\n",
       "       '14.09 kmpl', '14.7 kmpl', '13.4 kmpl', '15.5 kmpl', '13.49 kmpl',\n",
       "       '11.88 km/kg', '14.6 kmpl', '10.75 kmpl', '24.5 kmpl',\n",
       "       '11.74 kmpl', '16.07 kmpl', '15.63 kmpl', '26.3 km/kg',\n",
       "       '23.7 km/kg', '25.47 kmpl', '17.05 kmpl', '23.3 kmpl', '11.9 kmpl',\n",
       "       '13.38 kmpl', '20.86 kmpl', '19.2 km/kg', '10.9 kmpl',\n",
       "       '18.25 kmpl', '15.2 kmpl', '20.37 kmpl', '17.8 km/kg', '21.8 kmpl',\n",
       "       '11.96 kmpl', '24.04 kmpl', '19.69 kmpl', '13.73 kmpl',\n",
       "       '21.04 kmpl', '25.01 kmpl', '10.93 kmpl', '10.9 km/kg',\n",
       "       '24.29 kmpl', '13.44 kmpl', '20.07 kmpl', '21.1 km/kg',\n",
       "       '19.08 kmpl', '20.34 kmpl', '11.68 kmpl', '12.5 kmpl', '12.3 kmpl',\n",
       "       '23.87 kmpl', '16.38 kmpl', '17.42 kmpl', '10.0 kmpl',\n",
       "       '18.24 kmpl', '10.71 kmpl', '19.59 kmpl', '16.7 kmpl',\n",
       "       '19.83 kmpl', '21.76 kmpl', '16.05 kmpl', '20.28 kmpl',\n",
       "       '16.25 kmpl', '16.73 kmpl', '18.48 kmpl', '13.2 km/kg',\n",
       "       '21.4 km/kg', '14.99 kmpl', '18.76 kmpl', '16.4 kmpl',\n",
       "       '19.64 kmpl', '14.94 kmpl', '16.6 km/kg', '16.0 km/kg',\n",
       "       '17.11 kmpl', '22.8 km/kg', '32.26 km/kg', '33.0 km/kg',\n",
       "       '12.4 kmpl', '18.44 kmpl', '16.09 kmpl', '19.0 km/kg',\n",
       "       '12.62 kmpl', '21.13 kmpl', '15.17 kmpl', '21.73 kmpl',\n",
       "       '21.72 kmpl', '12.85 kmpl', '14.81 kmpl', '13.24 kmpl',\n",
       "       '14.4 km/kg', '21.49 kmpl', '14.62 kmpl', '26.83 km/kg',\n",
       "       '11.45 kmpl', '12.08 kmpl', '15.74 kmpl', '11.3 kmpl',\n",
       "       '15.1 km/kg', '14.21 kmpl', '11.72 kmpl', '16.51 kmpl'],\n",
       "      dtype=object)"
      ]
     },
     "execution_count": 9,
     "metadata": {},
     "output_type": "execute_result"
    }
   ],
   "source": [
    "df.mileage.unique()"
   ]
  },
  {
   "cell_type": "code",
   "execution_count": 10,
   "metadata": {},
   "outputs": [],
   "source": [
    "#Droping unnecessary columns\n",
    "df.drop(columns = [\"seats\", \"torque\", \"max_power\"], inplace=True)"
   ]
  },
  {
   "cell_type": "code",
   "execution_count": 11,
   "metadata": {},
   "outputs": [],
   "source": [
    "# For now let's make NaN value as 0 in mileage and engine column\n",
    "\n",
    "df.fillna(0, inplace=True)"
   ]
  },
  {
   "cell_type": "code",
   "execution_count": 12,
   "metadata": {},
   "outputs": [
    {
     "data": {
      "text/plain": [
       "name             0\n",
       "year             0\n",
       "selling_price    0\n",
       "km_driven        0\n",
       "fuel             0\n",
       "seller_type      0\n",
       "transmission     0\n",
       "owner            0\n",
       "mileage          0\n",
       "engine           0\n",
       "dtype: int64"
      ]
     },
     "execution_count": 12,
     "metadata": {},
     "output_type": "execute_result"
    }
   ],
   "source": [
    "df.isna().sum()"
   ]
  },
  {
   "cell_type": "code",
   "execution_count": 13,
   "metadata": {},
   "outputs": [
    {
     "data": {
      "text/html": [
       "<div>\n",
       "<style scoped>\n",
       "    .dataframe tbody tr th:only-of-type {\n",
       "        vertical-align: middle;\n",
       "    }\n",
       "\n",
       "    .dataframe tbody tr th {\n",
       "        vertical-align: top;\n",
       "    }\n",
       "\n",
       "    .dataframe thead th {\n",
       "        text-align: right;\n",
       "    }\n",
       "</style>\n",
       "<table border=\"1\" class=\"dataframe\">\n",
       "  <thead>\n",
       "    <tr style=\"text-align: right;\">\n",
       "      <th></th>\n",
       "      <th>name</th>\n",
       "      <th>year</th>\n",
       "      <th>selling_price</th>\n",
       "      <th>km_driven</th>\n",
       "      <th>fuel</th>\n",
       "      <th>seller_type</th>\n",
       "      <th>transmission</th>\n",
       "      <th>owner</th>\n",
       "      <th>mileage</th>\n",
       "      <th>engine</th>\n",
       "    </tr>\n",
       "  </thead>\n",
       "  <tbody>\n",
       "    <tr>\n",
       "      <th>13</th>\n",
       "      <td>Maruti Swift 1.3 VXi</td>\n",
       "      <td>2007</td>\n",
       "      <td>200000</td>\n",
       "      <td>80000</td>\n",
       "      <td>Petrol</td>\n",
       "      <td>Individual</td>\n",
       "      <td>Manual</td>\n",
       "      <td>Second Owner</td>\n",
       "      <td>0</td>\n",
       "      <td>0</td>\n",
       "    </tr>\n",
       "    <tr>\n",
       "      <th>31</th>\n",
       "      <td>Fiat Palio 1.2 ELX</td>\n",
       "      <td>2003</td>\n",
       "      <td>70000</td>\n",
       "      <td>50000</td>\n",
       "      <td>Petrol</td>\n",
       "      <td>Individual</td>\n",
       "      <td>Manual</td>\n",
       "      <td>Second Owner</td>\n",
       "      <td>0</td>\n",
       "      <td>0</td>\n",
       "    </tr>\n",
       "    <tr>\n",
       "      <th>78</th>\n",
       "      <td>Tata Indica DLS</td>\n",
       "      <td>2003</td>\n",
       "      <td>50000</td>\n",
       "      <td>70000</td>\n",
       "      <td>Diesel</td>\n",
       "      <td>Individual</td>\n",
       "      <td>Manual</td>\n",
       "      <td>First Owner</td>\n",
       "      <td>0</td>\n",
       "      <td>0</td>\n",
       "    </tr>\n",
       "    <tr>\n",
       "      <th>87</th>\n",
       "      <td>Maruti Swift VDI BSIV W ABS</td>\n",
       "      <td>2015</td>\n",
       "      <td>475000</td>\n",
       "      <td>78000</td>\n",
       "      <td>Diesel</td>\n",
       "      <td>Dealer</td>\n",
       "      <td>Manual</td>\n",
       "      <td>First Owner</td>\n",
       "      <td>0</td>\n",
       "      <td>0</td>\n",
       "    </tr>\n",
       "    <tr>\n",
       "      <th>119</th>\n",
       "      <td>Maruti Swift VDI BSIV</td>\n",
       "      <td>2010</td>\n",
       "      <td>300000</td>\n",
       "      <td>120000</td>\n",
       "      <td>Diesel</td>\n",
       "      <td>Individual</td>\n",
       "      <td>Manual</td>\n",
       "      <td>Second Owner</td>\n",
       "      <td>0</td>\n",
       "      <td>0</td>\n",
       "    </tr>\n",
       "  </tbody>\n",
       "</table>\n",
       "</div>"
      ],
      "text/plain": [
       "                            name  year  selling_price  km_driven    fuel  \\\n",
       "13          Maruti Swift 1.3 VXi  2007         200000      80000  Petrol   \n",
       "31            Fiat Palio 1.2 ELX  2003          70000      50000  Petrol   \n",
       "78               Tata Indica DLS  2003          50000      70000  Diesel   \n",
       "87   Maruti Swift VDI BSIV W ABS  2015         475000      78000  Diesel   \n",
       "119        Maruti Swift VDI BSIV  2010         300000     120000  Diesel   \n",
       "\n",
       "    seller_type transmission         owner mileage engine  \n",
       "13   Individual       Manual  Second Owner       0      0  \n",
       "31   Individual       Manual  Second Owner       0      0  \n",
       "78   Individual       Manual   First Owner       0      0  \n",
       "87       Dealer       Manual   First Owner       0      0  \n",
       "119  Individual       Manual  Second Owner       0      0  "
      ]
     },
     "execution_count": 13,
     "metadata": {},
     "output_type": "execute_result"
    }
   ],
   "source": [
    "# let's see the data where mileage value and engine values are 0\n",
    "\n",
    "df.loc[df.mileage == 0].head(5)"
   ]
  },
  {
   "cell_type": "markdown",
   "metadata": {},
   "source": [
    "- we can see that Car company and name are same but car version are differnce\n",
    "- we can replace that 0 mileage value with mean value of same care name's mileage value\n",
    "- we can replace that 0 engine value with median value of same care name's engine value"
   ]
  },
  {
   "cell_type": "code",
   "execution_count": 14,
   "metadata": {},
   "outputs": [
    {
     "data": {
      "text/html": [
       "<div>\n",
       "<style scoped>\n",
       "    .dataframe tbody tr th:only-of-type {\n",
       "        vertical-align: middle;\n",
       "    }\n",
       "\n",
       "    .dataframe tbody tr th {\n",
       "        vertical-align: top;\n",
       "    }\n",
       "\n",
       "    .dataframe thead th {\n",
       "        text-align: right;\n",
       "    }\n",
       "</style>\n",
       "<table border=\"1\" class=\"dataframe\">\n",
       "  <thead>\n",
       "    <tr style=\"text-align: right;\">\n",
       "      <th></th>\n",
       "      <th>name</th>\n",
       "      <th>year</th>\n",
       "      <th>selling_price</th>\n",
       "      <th>km_driven</th>\n",
       "      <th>fuel</th>\n",
       "      <th>seller_type</th>\n",
       "      <th>transmission</th>\n",
       "      <th>owner</th>\n",
       "      <th>mileage</th>\n",
       "      <th>engine</th>\n",
       "    </tr>\n",
       "  </thead>\n",
       "  <tbody>\n",
       "    <tr>\n",
       "      <th>2521</th>\n",
       "      <td>Maruti Wagon R LXI</td>\n",
       "      <td>2004</td>\n",
       "      <td>85000</td>\n",
       "      <td>110000</td>\n",
       "      <td>Petrol</td>\n",
       "      <td>Individual</td>\n",
       "      <td>Manual</td>\n",
       "      <td>First Owner</td>\n",
       "      <td>18.90</td>\n",
       "      <td>998</td>\n",
       "    </tr>\n",
       "    <tr>\n",
       "      <th>5551</th>\n",
       "      <td>Mahindra TUV 300 T4</td>\n",
       "      <td>2016</td>\n",
       "      <td>600000</td>\n",
       "      <td>60000</td>\n",
       "      <td>Diesel</td>\n",
       "      <td>Individual</td>\n",
       "      <td>Manual</td>\n",
       "      <td>First Owner</td>\n",
       "      <td>18.49</td>\n",
       "      <td>1493</td>\n",
       "    </tr>\n",
       "  </tbody>\n",
       "</table>\n",
       "</div>"
      ],
      "text/plain": [
       "                     name  year  selling_price  km_driven    fuel seller_type  \\\n",
       "2521   Maruti Wagon R LXI  2004          85000     110000  Petrol  Individual   \n",
       "5551  Mahindra TUV 300 T4  2016         600000      60000  Diesel  Individual   \n",
       "\n",
       "     transmission        owner  mileage  engine  \n",
       "2521       Manual  First Owner    18.90     998  \n",
       "5551       Manual  First Owner    18.49    1493  "
      ]
     },
     "execution_count": 14,
     "metadata": {},
     "output_type": "execute_result"
    }
   ],
   "source": [
    "# let's split the numeric values from mileage and engine and convert it into float or int\n",
    "\n",
    "df.mileage = df.mileage.apply(lambda x: float(str(x).split()[0]))\n",
    "df.engine = df.engine.apply(lambda x: int(str(x).split()[0]))\n",
    "df.sample(2)"
   ]
  },
  {
   "cell_type": "code",
   "execution_count": 15,
   "metadata": {},
   "outputs": [
    {
     "data": {
      "text/html": [
       "<div>\n",
       "<style scoped>\n",
       "    .dataframe tbody tr th:only-of-type {\n",
       "        vertical-align: middle;\n",
       "    }\n",
       "\n",
       "    .dataframe tbody tr th {\n",
       "        vertical-align: top;\n",
       "    }\n",
       "\n",
       "    .dataframe thead th {\n",
       "        text-align: right;\n",
       "    }\n",
       "</style>\n",
       "<table border=\"1\" class=\"dataframe\">\n",
       "  <thead>\n",
       "    <tr style=\"text-align: right;\">\n",
       "      <th></th>\n",
       "      <th>name</th>\n",
       "      <th>year</th>\n",
       "      <th>selling_price</th>\n",
       "      <th>km_driven</th>\n",
       "      <th>fuel</th>\n",
       "      <th>seller_type</th>\n",
       "      <th>transmission</th>\n",
       "      <th>owner</th>\n",
       "      <th>mileage</th>\n",
       "      <th>engine</th>\n",
       "      <th>comp_car_name</th>\n",
       "    </tr>\n",
       "  </thead>\n",
       "  <tbody>\n",
       "    <tr>\n",
       "      <th>3558</th>\n",
       "      <td>Hyundai i20 Magna Optional 1.4 CRDi</td>\n",
       "      <td>2013</td>\n",
       "      <td>345000</td>\n",
       "      <td>40000</td>\n",
       "      <td>Diesel</td>\n",
       "      <td>Individual</td>\n",
       "      <td>Manual</td>\n",
       "      <td>First Owner</td>\n",
       "      <td>21.90</td>\n",
       "      <td>1396</td>\n",
       "      <td>Hyundai i20</td>\n",
       "    </tr>\n",
       "    <tr>\n",
       "      <th>7553</th>\n",
       "      <td>Chevrolet Cruze LTZ AT</td>\n",
       "      <td>2016</td>\n",
       "      <td>750000</td>\n",
       "      <td>67600</td>\n",
       "      <td>Diesel</td>\n",
       "      <td>Individual</td>\n",
       "      <td>Automatic</td>\n",
       "      <td>First Owner</td>\n",
       "      <td>14.81</td>\n",
       "      <td>1998</td>\n",
       "      <td>Chevrolet Cruze</td>\n",
       "    </tr>\n",
       "  </tbody>\n",
       "</table>\n",
       "</div>"
      ],
      "text/plain": [
       "                                     name  year  selling_price  km_driven  \\\n",
       "3558  Hyundai i20 Magna Optional 1.4 CRDi  2013         345000      40000   \n",
       "7553               Chevrolet Cruze LTZ AT  2016         750000      67600   \n",
       "\n",
       "        fuel seller_type transmission        owner  mileage  engine  \\\n",
       "3558  Diesel  Individual       Manual  First Owner    21.90    1396   \n",
       "7553  Diesel  Individual    Automatic  First Owner    14.81    1998   \n",
       "\n",
       "        comp_car_name  \n",
       "3558      Hyundai i20  \n",
       "7553  Chevrolet Cruze  "
      ]
     },
     "execution_count": 15,
     "metadata": {},
     "output_type": "execute_result"
    }
   ],
   "source": [
    "# let's separate company and car name from name column\n",
    "\n",
    "df[\"comp_car_name\"] = df.name.apply(lambda x: str(x).split()[0] + \" \" + str(x).split()[1])\n",
    "df.sample(2)"
   ]
  },
  {
   "cell_type": "code",
   "execution_count": 16,
   "metadata": {},
   "outputs": [
    {
     "data": {
      "text/plain": [
       "238"
      ]
     },
     "execution_count": 16,
     "metadata": {},
     "output_type": "execute_result"
    }
   ],
   "source": [
    "# let's check how many records have 0 mileage values\n",
    "\n",
    "len(df.loc[df.mileage == 0])"
   ]
  },
  {
   "cell_type": "code",
   "execution_count": 17,
   "metadata": {},
   "outputs": [
    {
     "data": {
      "text/html": [
       "<div>\n",
       "<style scoped>\n",
       "    .dataframe tbody tr th:only-of-type {\n",
       "        vertical-align: middle;\n",
       "    }\n",
       "\n",
       "    .dataframe tbody tr th {\n",
       "        vertical-align: top;\n",
       "    }\n",
       "\n",
       "    .dataframe thead th {\n",
       "        text-align: right;\n",
       "    }\n",
       "</style>\n",
       "<table border=\"1\" class=\"dataframe\">\n",
       "  <thead>\n",
       "    <tr style=\"text-align: right;\">\n",
       "      <th></th>\n",
       "      <th>name</th>\n",
       "      <th>year</th>\n",
       "      <th>selling_price</th>\n",
       "      <th>km_driven</th>\n",
       "      <th>fuel</th>\n",
       "      <th>seller_type</th>\n",
       "      <th>transmission</th>\n",
       "      <th>owner</th>\n",
       "      <th>mileage</th>\n",
       "      <th>engine</th>\n",
       "      <th>comp_car_name</th>\n",
       "    </tr>\n",
       "  </thead>\n",
       "  <tbody>\n",
       "    <tr>\n",
       "      <th>3384</th>\n",
       "      <td>Maruti Wagon R AMT VXI</td>\n",
       "      <td>2017</td>\n",
       "      <td>380000</td>\n",
       "      <td>29000</td>\n",
       "      <td>Petrol</td>\n",
       "      <td>Individual</td>\n",
       "      <td>Automatic</td>\n",
       "      <td>First Owner</td>\n",
       "      <td>20.51</td>\n",
       "      <td>998</td>\n",
       "      <td>Maruti Wagon</td>\n",
       "    </tr>\n",
       "    <tr>\n",
       "      <th>5712</th>\n",
       "      <td>Chevrolet Tavera B1-10 seats BSII</td>\n",
       "      <td>2009</td>\n",
       "      <td>295000</td>\n",
       "      <td>195000</td>\n",
       "      <td>Diesel</td>\n",
       "      <td>Individual</td>\n",
       "      <td>Manual</td>\n",
       "      <td>Second Owner</td>\n",
       "      <td>14.80</td>\n",
       "      <td>2499</td>\n",
       "      <td>Chevrolet Tavera</td>\n",
       "    </tr>\n",
       "    <tr>\n",
       "      <th>2537</th>\n",
       "      <td>Toyota Fortuner 4x4 MT</td>\n",
       "      <td>2014</td>\n",
       "      <td>1700000</td>\n",
       "      <td>80000</td>\n",
       "      <td>Diesel</td>\n",
       "      <td>Individual</td>\n",
       "      <td>Manual</td>\n",
       "      <td>Second Owner</td>\n",
       "      <td>12.55</td>\n",
       "      <td>2982</td>\n",
       "      <td>Toyota Fortuner</td>\n",
       "    </tr>\n",
       "  </tbody>\n",
       "</table>\n",
       "</div>"
      ],
      "text/plain": [
       "                                   name  year  selling_price  km_driven  \\\n",
       "3384             Maruti Wagon R AMT VXI  2017         380000      29000   \n",
       "5712  Chevrolet Tavera B1-10 seats BSII  2009         295000     195000   \n",
       "2537             Toyota Fortuner 4x4 MT  2014        1700000      80000   \n",
       "\n",
       "        fuel seller_type transmission         owner  mileage  engine  \\\n",
       "3384  Petrol  Individual    Automatic   First Owner    20.51     998   \n",
       "5712  Diesel  Individual       Manual  Second Owner    14.80    2499   \n",
       "2537  Diesel  Individual       Manual  Second Owner    12.55    2982   \n",
       "\n",
       "         comp_car_name  \n",
       "3384      Maruti Wagon  \n",
       "5712  Chevrolet Tavera  \n",
       "2537   Toyota Fortuner  "
      ]
     },
     "execution_count": 17,
     "metadata": {},
     "output_type": "execute_result"
    }
   ],
   "source": [
    "# now let's fill the mileage value with mean value of same car name's mileage values wherever it has 0 value\n",
    "\n",
    "dropable_index = []\n",
    "for i in df.loc[df.mileage == 0].index:\n",
    "    missing_mileage_car_name = df.loc[i, \"comp_car_name\"]\n",
    "    avg_mileage = df.loc[(df.name.str.contains(missing_mileage_car_name)) & (df.mileage !=0), \"mileage\"].mean()\n",
    "    if np.nan is avg_mileage:\n",
    "        # here if mean value is nan then it means in our data set there are no other same company name car available\n",
    "        # so for that we have one option we have to drop that records\n",
    "        dropable_index.append(i)\n",
    "    else:\n",
    "        df.loc[i, \"mileage\"] = avg_mileage\n",
    "\n",
    "# let's drop those records which i did not able to fill the mileage value because that car name was unique\n",
    "df.drop(dropable_index, axis=0, inplace=True)\n",
    "df.sample(3)"
   ]
  },
  {
   "cell_type": "code",
   "execution_count": 18,
   "metadata": {},
   "outputs": [
    {
     "data": {
      "text/plain": [
       "200"
      ]
     },
     "execution_count": 18,
     "metadata": {},
     "output_type": "execute_result"
    }
   ],
   "source": [
    "# let's see how many records have 0 value in engine column\n",
    "\n",
    "len(df.loc[df.engine == 0])"
   ]
  },
  {
   "cell_type": "code",
   "execution_count": 19,
   "metadata": {},
   "outputs": [
    {
     "data": {
      "text/html": [
       "<div>\n",
       "<style scoped>\n",
       "    .dataframe tbody tr th:only-of-type {\n",
       "        vertical-align: middle;\n",
       "    }\n",
       "\n",
       "    .dataframe tbody tr th {\n",
       "        vertical-align: top;\n",
       "    }\n",
       "\n",
       "    .dataframe thead th {\n",
       "        text-align: right;\n",
       "    }\n",
       "</style>\n",
       "<table border=\"1\" class=\"dataframe\">\n",
       "  <thead>\n",
       "    <tr style=\"text-align: right;\">\n",
       "      <th></th>\n",
       "      <th>name</th>\n",
       "      <th>year</th>\n",
       "      <th>selling_price</th>\n",
       "      <th>km_driven</th>\n",
       "      <th>fuel</th>\n",
       "      <th>seller_type</th>\n",
       "      <th>transmission</th>\n",
       "      <th>owner</th>\n",
       "      <th>mileage</th>\n",
       "      <th>engine</th>\n",
       "      <th>comp_car_name</th>\n",
       "    </tr>\n",
       "  </thead>\n",
       "  <tbody>\n",
       "    <tr>\n",
       "      <th>399</th>\n",
       "      <td>Honda City i-VTEC CVT V</td>\n",
       "      <td>2018</td>\n",
       "      <td>1085000</td>\n",
       "      <td>1000</td>\n",
       "      <td>Petrol</td>\n",
       "      <td>Individual</td>\n",
       "      <td>Automatic</td>\n",
       "      <td>First Owner</td>\n",
       "      <td>18.0</td>\n",
       "      <td>1497.0</td>\n",
       "      <td>Honda City</td>\n",
       "    </tr>\n",
       "    <tr>\n",
       "      <th>7030</th>\n",
       "      <td>Hyundai i20 1.2 Spotz</td>\n",
       "      <td>2018</td>\n",
       "      <td>650000</td>\n",
       "      <td>15000</td>\n",
       "      <td>Petrol</td>\n",
       "      <td>Individual</td>\n",
       "      <td>Manual</td>\n",
       "      <td>First Owner</td>\n",
       "      <td>18.6</td>\n",
       "      <td>1197.0</td>\n",
       "      <td>Hyundai i20</td>\n",
       "    </tr>\n",
       "    <tr>\n",
       "      <th>1810</th>\n",
       "      <td>Mahindra XUV500 W6 2WD</td>\n",
       "      <td>2012</td>\n",
       "      <td>500000</td>\n",
       "      <td>1500000</td>\n",
       "      <td>Diesel</td>\n",
       "      <td>Individual</td>\n",
       "      <td>Manual</td>\n",
       "      <td>First Owner</td>\n",
       "      <td>15.1</td>\n",
       "      <td>2179.0</td>\n",
       "      <td>Mahindra XUV500</td>\n",
       "    </tr>\n",
       "  </tbody>\n",
       "</table>\n",
       "</div>"
      ],
      "text/plain": [
       "                         name  year  selling_price  km_driven    fuel  \\\n",
       "399   Honda City i-VTEC CVT V  2018        1085000       1000  Petrol   \n",
       "7030    Hyundai i20 1.2 Spotz  2018         650000      15000  Petrol   \n",
       "1810   Mahindra XUV500 W6 2WD  2012         500000    1500000  Diesel   \n",
       "\n",
       "     seller_type transmission        owner  mileage  engine    comp_car_name  \n",
       "399   Individual    Automatic  First Owner     18.0  1497.0       Honda City  \n",
       "7030  Individual       Manual  First Owner     18.6  1197.0      Hyundai i20  \n",
       "1810  Individual       Manual  First Owner     15.1  2179.0  Mahindra XUV500  "
      ]
     },
     "execution_count": 19,
     "metadata": {},
     "output_type": "execute_result"
    }
   ],
   "source": [
    "# now let's fill the engine value with median value of same car name's engine value wherever engine value is 0\n",
    "\n",
    "for i in df.loc[df.engine == 0].index:\n",
    "    missing_engine_car_name = df.loc[i, \"comp_car_name\"]\n",
    "    median_engine = df.loc[(df.name.str.contains(missing_engine_car_name)) & (df.engine != 0), \"engine\"].median()\n",
    "    \n",
    "    df.loc[i, \"engine\"] = median_engine\n",
    "\n",
    "df.sample(3)"
   ]
  },
  {
   "cell_type": "code",
   "execution_count": 20,
   "metadata": {},
   "outputs": [
    {
     "data": {
      "text/plain": [
       "0"
      ]
     },
     "execution_count": 20,
     "metadata": {},
     "output_type": "execute_result"
    }
   ],
   "source": [
    "# let's see how many records are remaining with 0 engine value\n",
    "len(df.loc[df.engine == 0])"
   ]
  },
  {
   "cell_type": "markdown",
   "metadata": {},
   "source": [
    "## Exploring Name Feature"
   ]
  },
  {
   "cell_type": "code",
   "execution_count": 21,
   "metadata": {},
   "outputs": [
    {
     "data": {
      "text/plain": [
       "2043"
      ]
     },
     "execution_count": 21,
     "metadata": {},
     "output_type": "execute_result"
    }
   ],
   "source": [
    "# let's find unique values of name columns\n",
    "\n",
    "df.name.nunique()"
   ]
  },
  {
   "cell_type": "markdown",
   "metadata": {},
   "source": [
    "##### Observation:\n",
    "- we have 2058 unique car"
   ]
  },
  {
   "cell_type": "markdown",
   "metadata": {},
   "source": [
    "## Exploring Years Feature"
   ]
  },
  {
   "cell_type": "code",
   "execution_count": 22,
   "metadata": {},
   "outputs": [
    {
     "data": {
      "text/plain": [
       "array([2014, 2006, 2010, 2007, 2017, 2001, 2011, 2013, 2005, 2009, 2016,\n",
       "       2012, 2002, 2015, 2018, 2019, 2003, 2008, 2020, 1999, 2000, 2004,\n",
       "       1994, 1998, 1997, 1995, 1996, 1991], dtype=int64)"
      ]
     },
     "execution_count": 22,
     "metadata": {},
     "output_type": "execute_result"
    }
   ],
   "source": [
    "# let's find unique values of year columns\n",
    "\n",
    "df.year.unique()"
   ]
  },
  {
   "cell_type": "code",
   "execution_count": 23,
   "metadata": {},
   "outputs": [
    {
     "data": {
      "image/png": "[encoded data removed]",
      "text/plain": [
       "<Figure size 720x432 with 1 Axes>"
      ]
     },
     "metadata": {},
     "output_type": "display_data"
    }
   ],
   "source": [
    "# let's plot it using count plot it see the variation of years\n",
    "sns.countplot(df.year)\n",
    "plt.xticks(rotation=90)\n",
    "plt.show()"
   ]
  },
  {
   "cell_type": "markdown",
   "metadata": {},
   "source": [
    "##### Observation:\n",
    "- We have cars from year 1983 to 2020"
   ]
  },
  {
   "cell_type": "markdown",
   "metadata": {},
   "source": [
    "## Exploring Km Driven Feature"
   ]
  },
  {
   "cell_type": "code",
   "execution_count": 24,
   "metadata": {},
   "outputs": [
    {
     "data": {
      "text/plain": [
       "<matplotlib.axes._subplots.AxesSubplot at 0x1b48e063c08>"
      ]
     },
     "execution_count": 24,
     "metadata": {},
     "output_type": "execute_result"
    },
    {
     "data": {
      "image/png": "[encoded data removed]",
      "text/plain": [
       "<Figure size 720x432 with 1 Axes>"
      ]
     },
     "metadata": {},
     "output_type": "display_data"
    }
   ],
   "source": [
    "# let's see the data distribution of km_driven\n",
    "\n",
    "sns.distplot(df.km_driven)"
   ]
  },
  {
   "cell_type": "code",
   "execution_count": 25,
   "metadata": {},
   "outputs": [
    {
     "name": "stdout",
     "output_type": "stream",
     "text": [
      "Minimum Km Driven: 1\n",
      "Maximum Km Driven: 2360457\n"
     ]
    }
   ],
   "source": [
    "# let's see min and max value\n",
    "\n",
    "print(\"Minimum Km Driven:\", df.km_driven.min())\n",
    "print(\"Maximum Km Driven:\", df.km_driven.max())"
   ]
  },
  {
   "cell_type": "markdown",
   "metadata": {},
   "source": [
    "##### Observation:\n",
    "- Our Km Driven data is right skewed but it's okay some cars are old so it driven more than lac KM"
   ]
  },
  {
   "cell_type": "code",
   "execution_count": 26,
   "metadata": {},
   "outputs": [
    {
     "data": {
      "text/plain": [
       "Diesel    4389\n",
       "Petrol    3622\n",
       "CNG         57\n",
       "LPG         38\n",
       "Name: fuel, dtype: int64"
      ]
     },
     "execution_count": 26,
     "metadata": {},
     "output_type": "execute_result"
    }
   ],
   "source": [
    "df.fuel.value_counts()"
   ]
  },
  {
   "cell_type": "code",
   "execution_count": 27,
   "metadata": {},
   "outputs": [
    {
     "data": {
      "image/png": "[encoded data removed]",
      "text/plain": [
       "<Figure size 720x432 with 1 Axes>"
      ]
     },
     "metadata": {},
     "output_type": "display_data"
    }
   ],
   "source": [
    "# let's see the variation of fuel type\n",
    "\n",
    "sns.countplot(df.fuel)\n",
    "plt.title(\"Count of Fuel Type\")\n",
    "plt.show()"
   ]
  },
  {
   "cell_type": "code",
   "execution_count": 28,
   "metadata": {},
   "outputs": [
    {
     "data": {
      "image/png": "[encoded data removed]",
      "text/plain": [
       "<Figure size 720x432 with 1 Axes>"
      ]
     },
     "metadata": {},
     "output_type": "display_data"
    }
   ],
   "source": [
    "# Let's find avg price of the car according to it's fuel type\n",
    "\n",
    "avg_fuel_selling_price = df.groupby(\"fuel\").selling_price.mean().reset_index()\n",
    "sns.barplot(avg_fuel_selling_price.fuel, avg_fuel_selling_price.selling_price)\n",
    "plt.title(\"Average Selling Price base on Fuel Type\")\n",
    "plt.show()"
   ]
  },
  {
   "cell_type": "markdown",
   "metadata": {},
   "source": [
    "##### Observation:\n",
    "- Maximum cars are run on Diesel and Petrol fuel and some are on LPG and CNG\n",
    "- The cars which has Diesel fuel type it's selling price is high \n",
    "- so Fuel type is affect to selling price"
   ]
  },
  {
   "cell_type": "code",
   "execution_count": 29,
   "metadata": {},
   "outputs": [
    {
     "data": {
      "image/png": "[encoded data removed]",
      "text/plain": [
       "<Figure size 720x432 with 1 Axes>"
      ]
     },
     "metadata": {},
     "output_type": "display_data"
    }
   ],
   "source": [
    "## let's look at seller_type \n",
    "\n",
    "sns.countplot(df.seller_type)\n",
    "plt.title(\"Count of Seller Type\")\n",
    "plt.show()"
   ]
  },
  {
   "cell_type": "code",
   "execution_count": 30,
   "metadata": {},
   "outputs": [
    {
     "data": {
      "image/png": "[encoded data removed]",
      "text/plain": [
       "<Figure size 720x432 with 1 Axes>"
      ]
     },
     "metadata": {},
     "output_type": "display_data"
    }
   ],
   "source": [
    "# let's see seller_type feature affect on selling price or not\n",
    "\n",
    "avg_seller_type_selling_price = df.groupby(\"seller_type\").selling_price.mean().reset_index()\n",
    "\n",
    "sns.barplot(avg_seller_type_selling_price.seller_type, avg_seller_type_selling_price.selling_price)\n",
    "plt.title(\"Average Selling Price base on Seller Type\")\n",
    "plt.show()"
   ]
  },
  {
   "cell_type": "markdown",
   "metadata": {},
   "source": [
    "##### Observation:\n",
    "- Individual Sellers are high than Dealer and Tustmark Delaer\n",
    "- Selling Price is high when seller type are Dealer and Trustmark Dealer\n",
    "- so Seller Type affect to Selling Price"
   ]
  },
  {
   "cell_type": "code",
   "execution_count": 31,
   "metadata": {},
   "outputs": [
    {
     "data": {
      "image/png": "[encoded data removed]",
      "text/plain": [
       "<Figure size 720x432 with 1 Axes>"
      ]
     },
     "metadata": {},
     "output_type": "display_data"
    }
   ],
   "source": [
    "# let's look at transmission types\n",
    "\n",
    "sns.countplot(df.transmission)\n",
    "plt.title(\"Count of Transmission\")\n",
    "plt.show()"
   ]
  },
  {
   "cell_type": "code",
   "execution_count": 32,
   "metadata": {},
   "outputs": [
    {
     "data": {
      "image/png": "[encoded data removed]",
      "text/plain": [
       "<Figure size 720x432 with 1 Axes>"
      ]
     },
     "metadata": {},
     "output_type": "display_data"
    }
   ],
   "source": [
    "# let's see the average selling price manual and automatic transmission\n",
    "\n",
    "avg_transmission_selling_price = df.groupby(\"transmission\").selling_price.mean().reset_index()\n",
    "\n",
    "sns.barplot(avg_transmission_selling_price.transmission, avg_transmission_selling_price.selling_price)\n",
    "plt.title(\"Average Selling Price base on Transmission\")\n",
    "plt.show()"
   ]
  },
  {
   "cell_type": "markdown",
   "metadata": {},
   "source": [
    "##### Observation:\n",
    "- We have more cars which have a manual transmission compare to automatic transmission\n",
    "- The Selling price of an automatic transmission are high than manual transmission\n",
    "- so here transmission types are affect to selling price"
   ]
  },
  {
   "cell_type": "code",
   "execution_count": 33,
   "metadata": {},
   "outputs": [
    {
     "data": {
      "image/png": "[encoded data removed]",
      "text/plain": [
       "<Figure size 720x432 with 1 Axes>"
      ]
     },
     "metadata": {},
     "output_type": "display_data"
    }
   ],
   "source": [
    "# let's look at owner category\n",
    "\n",
    "sns.countplot(df.owner)\n",
    "plt.title(\"Count of Owner\")\n",
    "plt.show()"
   ]
  },
  {
   "cell_type": "code",
   "execution_count": 34,
   "metadata": {},
   "outputs": [
    {
     "data": {
      "image/png": "[encoded data removed]",
      "text/plain": [
       "<Figure size 720x432 with 1 Axes>"
      ]
     },
     "metadata": {},
     "output_type": "display_data"
    }
   ],
   "source": [
    "# let's see the average selling price base on owner\n",
    "\n",
    "avg_owner_selling_price = df.groupby(\"owner\").selling_price.mean().reset_index()\n",
    "\n",
    "sns.barplot(avg_owner_selling_price.owner, avg_owner_selling_price.selling_price)\n",
    "plt.title(\"Average Selling Price base on Owner\")\n",
    "plt.show()"
   ]
  },
  {
   "cell_type": "code",
   "execution_count": 35,
   "metadata": {},
   "outputs": [
    {
     "data": {
      "text/html": [
       "<div>\n",
       "<style scoped>\n",
       "    .dataframe tbody tr th:only-of-type {\n",
       "        vertical-align: middle;\n",
       "    }\n",
       "\n",
       "    .dataframe tbody tr th {\n",
       "        vertical-align: top;\n",
       "    }\n",
       "\n",
       "    .dataframe thead th {\n",
       "        text-align: right;\n",
       "    }\n",
       "</style>\n",
       "<table border=\"1\" class=\"dataframe\">\n",
       "  <thead>\n",
       "    <tr style=\"text-align: right;\">\n",
       "      <th></th>\n",
       "      <th>name</th>\n",
       "      <th>year</th>\n",
       "      <th>selling_price</th>\n",
       "      <th>km_driven</th>\n",
       "      <th>fuel</th>\n",
       "      <th>seller_type</th>\n",
       "      <th>transmission</th>\n",
       "      <th>owner</th>\n",
       "      <th>mileage</th>\n",
       "      <th>engine</th>\n",
       "      <th>comp_car_name</th>\n",
       "    </tr>\n",
       "  </thead>\n",
       "  <tbody>\n",
       "    <tr>\n",
       "      <th>4383</th>\n",
       "      <td>Volkswagen Vento 1.5 TDI Highline BSIV</td>\n",
       "      <td>2019</td>\n",
       "      <td>1350000</td>\n",
       "      <td>5400</td>\n",
       "      <td>Diesel</td>\n",
       "      <td>Dealer</td>\n",
       "      <td>Manual</td>\n",
       "      <td>Test Drive Car</td>\n",
       "      <td>22.27</td>\n",
       "      <td>1498.0</td>\n",
       "      <td>Volkswagen Vento</td>\n",
       "    </tr>\n",
       "    <tr>\n",
       "      <th>4950</th>\n",
       "      <td>Audi A6 35 TFSI Matrix</td>\n",
       "      <td>2019</td>\n",
       "      <td>6223000</td>\n",
       "      <td>7800</td>\n",
       "      <td>Petrol</td>\n",
       "      <td>Dealer</td>\n",
       "      <td>Automatic</td>\n",
       "      <td>Test Drive Car</td>\n",
       "      <td>15.26</td>\n",
       "      <td>1798.0</td>\n",
       "      <td>Audi A6</td>\n",
       "    </tr>\n",
       "    <tr>\n",
       "      <th>4951</th>\n",
       "      <td>Audi A6 35 TFSI Matrix</td>\n",
       "      <td>2019</td>\n",
       "      <td>5923000</td>\n",
       "      <td>11500</td>\n",
       "      <td>Petrol</td>\n",
       "      <td>Dealer</td>\n",
       "      <td>Automatic</td>\n",
       "      <td>Test Drive Car</td>\n",
       "      <td>15.26</td>\n",
       "      <td>1798.0</td>\n",
       "      <td>Audi A6</td>\n",
       "    </tr>\n",
       "    <tr>\n",
       "      <th>4952</th>\n",
       "      <td>Audi A6 35 TFSI Matrix</td>\n",
       "      <td>2019</td>\n",
       "      <td>6523000</td>\n",
       "      <td>23600</td>\n",
       "      <td>Petrol</td>\n",
       "      <td>Dealer</td>\n",
       "      <td>Automatic</td>\n",
       "      <td>Test Drive Car</td>\n",
       "      <td>15.26</td>\n",
       "      <td>1798.0</td>\n",
       "      <td>Audi A6</td>\n",
       "    </tr>\n",
       "    <tr>\n",
       "      <th>6220</th>\n",
       "      <td>Honda Civic ZX</td>\n",
       "      <td>2019</td>\n",
       "      <td>2000000</td>\n",
       "      <td>24857</td>\n",
       "      <td>Petrol</td>\n",
       "      <td>Dealer</td>\n",
       "      <td>Automatic</td>\n",
       "      <td>Test Drive Car</td>\n",
       "      <td>16.50</td>\n",
       "      <td>1799.0</td>\n",
       "      <td>Honda Civic</td>\n",
       "    </tr>\n",
       "  </tbody>\n",
       "</table>\n",
       "</div>"
      ],
      "text/plain": [
       "                                        name  year  selling_price  km_driven  \\\n",
       "4383  Volkswagen Vento 1.5 TDI Highline BSIV  2019        1350000       5400   \n",
       "4950                  Audi A6 35 TFSI Matrix  2019        6223000       7800   \n",
       "4951                  Audi A6 35 TFSI Matrix  2019        5923000      11500   \n",
       "4952                  Audi A6 35 TFSI Matrix  2019        6523000      23600   \n",
       "6220                          Honda Civic ZX  2019        2000000      24857   \n",
       "\n",
       "        fuel seller_type transmission           owner  mileage  engine  \\\n",
       "4383  Diesel      Dealer       Manual  Test Drive Car    22.27  1498.0   \n",
       "4950  Petrol      Dealer    Automatic  Test Drive Car    15.26  1798.0   \n",
       "4951  Petrol      Dealer    Automatic  Test Drive Car    15.26  1798.0   \n",
       "4952  Petrol      Dealer    Automatic  Test Drive Car    15.26  1798.0   \n",
       "6220  Petrol      Dealer    Automatic  Test Drive Car    16.50  1799.0   \n",
       "\n",
       "         comp_car_name  \n",
       "4383  Volkswagen Vento  \n",
       "4950           Audi A6  \n",
       "4951           Audi A6  \n",
       "4952           Audi A6  \n",
       "6220       Honda Civic  "
      ]
     },
     "execution_count": 35,
     "metadata": {},
     "output_type": "execute_result"
    }
   ],
   "source": [
    "# Average selling price of owner type test drive car is very high it might be an outlier let's see the data\n",
    "# which have owner type is Test Drive Car\n",
    "\n",
    "df.loc[df.owner == \"Test Drive Car\"]"
   ]
  },
  {
   "cell_type": "code",
   "execution_count": 36,
   "metadata": {},
   "outputs": [
    {
     "data": {
      "text/html": [
       "<div>\n",
       "<style scoped>\n",
       "    .dataframe tbody tr th:only-of-type {\n",
       "        vertical-align: middle;\n",
       "    }\n",
       "\n",
       "    .dataframe tbody tr th {\n",
       "        vertical-align: top;\n",
       "    }\n",
       "\n",
       "    .dataframe thead th {\n",
       "        text-align: right;\n",
       "    }\n",
       "</style>\n",
       "<table border=\"1\" class=\"dataframe\">\n",
       "  <thead>\n",
       "    <tr style=\"text-align: right;\">\n",
       "      <th></th>\n",
       "      <th>name</th>\n",
       "      <th>year</th>\n",
       "      <th>selling_price</th>\n",
       "      <th>km_driven</th>\n",
       "      <th>fuel</th>\n",
       "      <th>seller_type</th>\n",
       "      <th>transmission</th>\n",
       "      <th>owner</th>\n",
       "      <th>mileage</th>\n",
       "      <th>engine</th>\n",
       "      <th>comp_car_name</th>\n",
       "    </tr>\n",
       "  </thead>\n",
       "  <tbody>\n",
       "    <tr>\n",
       "      <th>4383</th>\n",
       "      <td>Volkswagen Vento 1.5 TDI Highline BSIV</td>\n",
       "      <td>2019</td>\n",
       "      <td>1350000</td>\n",
       "      <td>5400</td>\n",
       "      <td>Diesel</td>\n",
       "      <td>Dealer</td>\n",
       "      <td>Manual</td>\n",
       "      <td>Test Drive Car</td>\n",
       "      <td>22.27</td>\n",
       "      <td>1498.0</td>\n",
       "      <td>Volkswagen Vento</td>\n",
       "    </tr>\n",
       "  </tbody>\n",
       "</table>\n",
       "</div>"
      ],
      "text/plain": [
       "                                        name  year  selling_price  km_driven  \\\n",
       "4383  Volkswagen Vento 1.5 TDI Highline BSIV  2019        1350000       5400   \n",
       "\n",
       "        fuel seller_type transmission           owner  mileage  engine  \\\n",
       "4383  Diesel      Dealer       Manual  Test Drive Car    22.27  1498.0   \n",
       "\n",
       "         comp_car_name  \n",
       "4383  Volkswagen Vento  "
      ]
     },
     "execution_count": 36,
     "metadata": {},
     "output_type": "execute_result"
    }
   ],
   "source": [
    "df.loc[df.name == \"Volkswagen Vento 1.5 TDI Highline BSIV\"]"
   ]
  },
  {
   "cell_type": "markdown",
   "metadata": {},
   "source": [
    "- Here we can see the cars which belongs to Test Drive Car category of owner are unique models\n",
    "- Owner Type Test Drive Car are 5 records and 3 unique model so we can easily drop it to remove that outlier"
   ]
  },
  {
   "cell_type": "code",
   "execution_count": 37,
   "metadata": {},
   "outputs": [],
   "source": [
    "# let's drop records which has Test Drive Car owner type\n",
    "\n",
    "df.drop(df.loc[df.owner == \"Test Drive Car\"].index, axis=0, inplace=True)"
   ]
  },
  {
   "cell_type": "code",
   "execution_count": 38,
   "metadata": {},
   "outputs": [
    {
     "data": {
      "image/png": "[encoded data removed]",
      "text/plain": [
       "<Figure size 720x432 with 1 Axes>"
      ]
     },
     "metadata": {},
     "output_type": "display_data"
    }
   ],
   "source": [
    "# now again let's see the average selling price base on owner\n",
    "\n",
    "avg_owner_selling_price = df.groupby(\"owner\").selling_price.mean().reset_index()\n",
    "\n",
    "sns.barplot(avg_owner_selling_price.owner, avg_owner_selling_price.selling_price)\n",
    "plt.title(\"Average Selling Price base on Owner\")\n",
    "plt.show()"
   ]
  },
  {
   "cell_type": "markdown",
   "metadata": {},
   "source": [
    "##### Observation:\n",
    "- We have more cars from first owner\n",
    "- The car selling price is more when owner is first compare to other owner\n",
    "- so here owner feature is affect to selling price"
   ]
  },
  {
   "cell_type": "code",
   "execution_count": 39,
   "metadata": {},
   "outputs": [
    {
     "data": {
      "image/png": "[encoded data removed]",
      "text/plain": [
       "<Figure size 720x432 with 1 Axes>"
      ]
     },
     "metadata": {},
     "output_type": "display_data"
    }
   ],
   "source": [
    "# let's look the data distribution of mileage column\n",
    "\n",
    "sns.distplot(df.mileage)\n",
    "plt.show()"
   ]
  },
  {
   "cell_type": "markdown",
   "metadata": {},
   "source": [
    "##### Observation:\n",
    "- Here mileage data are noramlly distributed so our regression model will perform better on normal distribution data\n",
    "- Mileage feature is important for car so it is affect on selling price"
   ]
  },
  {
   "cell_type": "code",
   "execution_count": 40,
   "metadata": {},
   "outputs": [
    {
     "data": {
      "image/png": "[encoded data removed]",
      "text/plain": [
       "<Figure size 720x432 with 1 Axes>"
      ]
     },
     "metadata": {},
     "output_type": "display_data"
    }
   ],
   "source": [
    "# let's look at engine\n",
    "\n",
    "sns.distplot(df.engine)\n",
    "plt.show()"
   ]
  },
  {
   "cell_type": "code",
   "execution_count": 41,
   "metadata": {},
   "outputs": [
    {
     "data": {
      "text/html": [
       "<div>\n",
       "<style scoped>\n",
       "    .dataframe tbody tr th:only-of-type {\n",
       "        vertical-align: middle;\n",
       "    }\n",
       "\n",
       "    .dataframe tbody tr th {\n",
       "        vertical-align: top;\n",
       "    }\n",
       "\n",
       "    .dataframe thead th {\n",
       "        text-align: right;\n",
       "    }\n",
       "</style>\n",
       "<table border=\"1\" class=\"dataframe\">\n",
       "  <thead>\n",
       "    <tr style=\"text-align: right;\">\n",
       "      <th></th>\n",
       "      <th>engine</th>\n",
       "      <th>selling_price</th>\n",
       "    </tr>\n",
       "  </thead>\n",
       "  <tbody>\n",
       "    <tr>\n",
       "      <th>engine</th>\n",
       "      <td>1.000000</td>\n",
       "      <td>0.458291</td>\n",
       "    </tr>\n",
       "    <tr>\n",
       "      <th>selling_price</th>\n",
       "      <td>0.458291</td>\n",
       "      <td>1.000000</td>\n",
       "    </tr>\n",
       "  </tbody>\n",
       "</table>\n",
       "</div>"
      ],
      "text/plain": [
       "                 engine  selling_price\n",
       "engine         1.000000       0.458291\n",
       "selling_price  0.458291       1.000000"
      ]
     },
     "execution_count": 41,
     "metadata": {},
     "output_type": "execute_result"
    }
   ],
   "source": [
    "df[[\"engine\", \"selling_price\"]].corr()"
   ]
  },
  {
   "cell_type": "markdown",
   "metadata": {},
   "source": [
    "##### Observation:\n",
    "- The data of engine is not normally distributed but engine size is really matter for car\n",
    "- We can see engine is highly co-relates with selling price"
   ]
  },
  {
   "cell_type": "code",
   "execution_count": 42,
   "metadata": {},
   "outputs": [
    {
     "data": {
      "image/png": "[encoded data removed]",
      "text/plain": [
       "<Figure size 720x432 with 1 Axes>"
      ]
     },
     "metadata": {},
     "output_type": "display_data"
    }
   ],
   "source": [
    "# let's look at the data distribution of selling_price\n",
    "\n",
    "sns.distplot(df.selling_price)\n",
    "plt.show()"
   ]
  },
  {
   "cell_type": "markdown",
   "metadata": {},
   "source": [
    "- Selling price data are distributed in righ skewed, there may be chance of outliers let's try to find it"
   ]
  },
  {
   "cell_type": "code",
   "execution_count": 43,
   "metadata": {},
   "outputs": [
    {
     "name": "stdout",
     "output_type": "stream",
     "text": [
      "Lower Limit: 35000.0\n",
      "Upper Limit: 5848000.000000011\n"
     ]
    }
   ],
   "source": [
    "# finding upper and lower limit using percertile \n",
    "# here i'm going to use 99.9% for upper limit and 0.1% for lower limit\n",
    "\n",
    "lower_limit = df.selling_price.quantile(0.001)\n",
    "upper_limit = df.selling_price.quantile(0.999)\n",
    "\n",
    "print(\"Lower Limit:\", lower_limit)\n",
    "print(\"Upper Limit:\", upper_limit)"
   ]
  },
  {
   "cell_type": "code",
   "execution_count": 44,
   "metadata": {},
   "outputs": [
    {
     "data": {
      "text/html": [
       "<div>\n",
       "<style scoped>\n",
       "    .dataframe tbody tr th:only-of-type {\n",
       "        vertical-align: middle;\n",
       "    }\n",
       "\n",
       "    .dataframe tbody tr th {\n",
       "        vertical-align: top;\n",
       "    }\n",
       "\n",
       "    .dataframe thead th {\n",
       "        text-align: right;\n",
       "    }\n",
       "</style>\n",
       "<table border=\"1\" class=\"dataframe\">\n",
       "  <thead>\n",
       "    <tr style=\"text-align: right;\">\n",
       "      <th></th>\n",
       "      <th>name</th>\n",
       "      <th>year</th>\n",
       "      <th>selling_price</th>\n",
       "      <th>km_driven</th>\n",
       "      <th>fuel</th>\n",
       "      <th>seller_type</th>\n",
       "      <th>transmission</th>\n",
       "      <th>owner</th>\n",
       "      <th>mileage</th>\n",
       "      <th>engine</th>\n",
       "      <th>comp_car_name</th>\n",
       "    </tr>\n",
       "  </thead>\n",
       "  <tbody>\n",
       "    <tr>\n",
       "      <th>1926</th>\n",
       "      <td>Maruti 800 Std</td>\n",
       "      <td>2004</td>\n",
       "      <td>31504</td>\n",
       "      <td>110000</td>\n",
       "      <td>Petrol</td>\n",
       "      <td>Individual</td>\n",
       "      <td>Manual</td>\n",
       "      <td>Third Owner</td>\n",
       "      <td>16.100000</td>\n",
       "      <td>796.0</td>\n",
       "      <td>Maruti 800</td>\n",
       "    </tr>\n",
       "    <tr>\n",
       "      <th>2145</th>\n",
       "      <td>Maruti Zen LXI</td>\n",
       "      <td>2001</td>\n",
       "      <td>30000</td>\n",
       "      <td>10000</td>\n",
       "      <td>Petrol</td>\n",
       "      <td>Individual</td>\n",
       "      <td>Manual</td>\n",
       "      <td>First Owner</td>\n",
       "      <td>17.300000</td>\n",
       "      <td>993.0</td>\n",
       "      <td>Maruti Zen</td>\n",
       "    </tr>\n",
       "    <tr>\n",
       "      <th>3919</th>\n",
       "      <td>Hyundai Santro LE</td>\n",
       "      <td>2001</td>\n",
       "      <td>33983</td>\n",
       "      <td>80000</td>\n",
       "      <td>Petrol</td>\n",
       "      <td>Individual</td>\n",
       "      <td>Manual</td>\n",
       "      <td>Second Owner</td>\n",
       "      <td>18.239178</td>\n",
       "      <td>1086.0</td>\n",
       "      <td>Hyundai Santro</td>\n",
       "    </tr>\n",
       "    <tr>\n",
       "      <th>4811</th>\n",
       "      <td>Maruti Wagon R VXI</td>\n",
       "      <td>2004</td>\n",
       "      <td>33351</td>\n",
       "      <td>90000</td>\n",
       "      <td>Petrol</td>\n",
       "      <td>Individual</td>\n",
       "      <td>Manual</td>\n",
       "      <td>Third Owner</td>\n",
       "      <td>18.900000</td>\n",
       "      <td>998.0</td>\n",
       "      <td>Maruti Wagon</td>\n",
       "    </tr>\n",
       "    <tr>\n",
       "      <th>5714</th>\n",
       "      <td>Maruti 800 AC</td>\n",
       "      <td>1997</td>\n",
       "      <td>29999</td>\n",
       "      <td>80000</td>\n",
       "      <td>Petrol</td>\n",
       "      <td>Individual</td>\n",
       "      <td>Manual</td>\n",
       "      <td>Third Owner</td>\n",
       "      <td>16.100000</td>\n",
       "      <td>796.0</td>\n",
       "      <td>Maruti 800</td>\n",
       "    </tr>\n",
       "    <tr>\n",
       "      <th>5965</th>\n",
       "      <td>Maruti 800 Std</td>\n",
       "      <td>2000</td>\n",
       "      <td>31000</td>\n",
       "      <td>56194</td>\n",
       "      <td>Petrol</td>\n",
       "      <td>Individual</td>\n",
       "      <td>Manual</td>\n",
       "      <td>Fourth &amp; Above Owner</td>\n",
       "      <td>16.100000</td>\n",
       "      <td>796.0</td>\n",
       "      <td>Maruti 800</td>\n",
       "    </tr>\n",
       "    <tr>\n",
       "      <th>6776</th>\n",
       "      <td>Hyundai Santro GLS I - Euro I</td>\n",
       "      <td>2000</td>\n",
       "      <td>30000</td>\n",
       "      <td>90000</td>\n",
       "      <td>Petrol</td>\n",
       "      <td>Individual</td>\n",
       "      <td>Manual</td>\n",
       "      <td>Third Owner</td>\n",
       "      <td>18.239178</td>\n",
       "      <td>1086.0</td>\n",
       "      <td>Hyundai Santro</td>\n",
       "    </tr>\n",
       "  </tbody>\n",
       "</table>\n",
       "</div>"
      ],
      "text/plain": [
       "                               name  year  selling_price  km_driven    fuel  \\\n",
       "1926                 Maruti 800 Std  2004          31504     110000  Petrol   \n",
       "2145                 Maruti Zen LXI  2001          30000      10000  Petrol   \n",
       "3919              Hyundai Santro LE  2001          33983      80000  Petrol   \n",
       "4811             Maruti Wagon R VXI  2004          33351      90000  Petrol   \n",
       "5714                  Maruti 800 AC  1997          29999      80000  Petrol   \n",
       "5965                 Maruti 800 Std  2000          31000      56194  Petrol   \n",
       "6776  Hyundai Santro GLS I - Euro I  2000          30000      90000  Petrol   \n",
       "\n",
       "     seller_type transmission                 owner    mileage  engine  \\\n",
       "1926  Individual       Manual           Third Owner  16.100000   796.0   \n",
       "2145  Individual       Manual           First Owner  17.300000   993.0   \n",
       "3919  Individual       Manual          Second Owner  18.239178  1086.0   \n",
       "4811  Individual       Manual           Third Owner  18.900000   998.0   \n",
       "5714  Individual       Manual           Third Owner  16.100000   796.0   \n",
       "5965  Individual       Manual  Fourth & Above Owner  16.100000   796.0   \n",
       "6776  Individual       Manual           Third Owner  18.239178  1086.0   \n",
       "\n",
       "       comp_car_name  \n",
       "1926      Maruti 800  \n",
       "2145      Maruti Zen  \n",
       "3919  Hyundai Santro  \n",
       "4811    Maruti Wagon  \n",
       "5714      Maruti 800  \n",
       "5965      Maruti 800  \n",
       "6776  Hyundai Santro  "
      ]
     },
     "execution_count": 44,
     "metadata": {},
     "output_type": "execute_result"
    }
   ],
   "source": [
    "# let's see the data which are below the range of lower limit\n",
    "\n",
    "df.loc[df.selling_price < lower_limit]"
   ]
  },
  {
   "cell_type": "code",
   "execution_count": 45,
   "metadata": {},
   "outputs": [
    {
     "data": {
      "text/html": [
       "<div>\n",
       "<style scoped>\n",
       "    .dataframe tbody tr th:only-of-type {\n",
       "        vertical-align: middle;\n",
       "    }\n",
       "\n",
       "    .dataframe tbody tr th {\n",
       "        vertical-align: top;\n",
       "    }\n",
       "\n",
       "    .dataframe thead th {\n",
       "        text-align: right;\n",
       "    }\n",
       "</style>\n",
       "<table border=\"1\" class=\"dataframe\">\n",
       "  <thead>\n",
       "    <tr style=\"text-align: right;\">\n",
       "      <th></th>\n",
       "      <th>name</th>\n",
       "      <th>year</th>\n",
       "      <th>selling_price</th>\n",
       "      <th>km_driven</th>\n",
       "      <th>fuel</th>\n",
       "      <th>seller_type</th>\n",
       "      <th>transmission</th>\n",
       "      <th>owner</th>\n",
       "      <th>mileage</th>\n",
       "      <th>engine</th>\n",
       "      <th>comp_car_name</th>\n",
       "    </tr>\n",
       "  </thead>\n",
       "  <tbody>\n",
       "    <tr>\n",
       "      <th>136</th>\n",
       "      <td>Mercedes-Benz S-Class S 350 CDI</td>\n",
       "      <td>2017</td>\n",
       "      <td>6000000</td>\n",
       "      <td>37000</td>\n",
       "      <td>Diesel</td>\n",
       "      <td>Dealer</td>\n",
       "      <td>Automatic</td>\n",
       "      <td>First Owner</td>\n",
       "      <td>13.50</td>\n",
       "      <td>2987.0</td>\n",
       "      <td>Mercedes-Benz S-Class</td>\n",
       "    </tr>\n",
       "    <tr>\n",
       "      <th>148</th>\n",
       "      <td>Mercedes-Benz S-Class S 350 CDI</td>\n",
       "      <td>2017</td>\n",
       "      <td>5850000</td>\n",
       "      <td>47000</td>\n",
       "      <td>Diesel</td>\n",
       "      <td>Dealer</td>\n",
       "      <td>Automatic</td>\n",
       "      <td>First Owner</td>\n",
       "      <td>13.50</td>\n",
       "      <td>2987.0</td>\n",
       "      <td>Mercedes-Benz S-Class</td>\n",
       "    </tr>\n",
       "    <tr>\n",
       "      <th>170</th>\n",
       "      <td>Volvo XC90 T8 Excellence BSIV</td>\n",
       "      <td>2017</td>\n",
       "      <td>10000000</td>\n",
       "      <td>30000</td>\n",
       "      <td>Petrol</td>\n",
       "      <td>Individual</td>\n",
       "      <td>Automatic</td>\n",
       "      <td>First Owner</td>\n",
       "      <td>42.00</td>\n",
       "      <td>1969.0</td>\n",
       "      <td>Volvo XC90</td>\n",
       "    </tr>\n",
       "    <tr>\n",
       "      <th>1071</th>\n",
       "      <td>BMW 6 Series GT 630d Luxury Line</td>\n",
       "      <td>2018</td>\n",
       "      <td>6000000</td>\n",
       "      <td>28156</td>\n",
       "      <td>Diesel</td>\n",
       "      <td>Dealer</td>\n",
       "      <td>Automatic</td>\n",
       "      <td>First Owner</td>\n",
       "      <td>17.09</td>\n",
       "      <td>2993.0</td>\n",
       "      <td>BMW 6</td>\n",
       "    </tr>\n",
       "    <tr>\n",
       "      <th>2938</th>\n",
       "      <td>BMW X7 xDrive 30d DPE</td>\n",
       "      <td>2020</td>\n",
       "      <td>7200000</td>\n",
       "      <td>5000</td>\n",
       "      <td>Diesel</td>\n",
       "      <td>Individual</td>\n",
       "      <td>Automatic</td>\n",
       "      <td>First Owner</td>\n",
       "      <td>13.38</td>\n",
       "      <td>2993.0</td>\n",
       "      <td>BMW X7</td>\n",
       "    </tr>\n",
       "    <tr>\n",
       "      <th>4101</th>\n",
       "      <td>BMW 6 Series GT 630d Luxury Line</td>\n",
       "      <td>2018</td>\n",
       "      <td>6000000</td>\n",
       "      <td>28156</td>\n",
       "      <td>Diesel</td>\n",
       "      <td>Dealer</td>\n",
       "      <td>Automatic</td>\n",
       "      <td>First Owner</td>\n",
       "      <td>17.09</td>\n",
       "      <td>2993.0</td>\n",
       "      <td>BMW 6</td>\n",
       "    </tr>\n",
       "    <tr>\n",
       "      <th>4766</th>\n",
       "      <td>BMW 6 Series GT 630d Luxury Line</td>\n",
       "      <td>2018</td>\n",
       "      <td>6000000</td>\n",
       "      <td>27000</td>\n",
       "      <td>Diesel</td>\n",
       "      <td>Dealer</td>\n",
       "      <td>Automatic</td>\n",
       "      <td>First Owner</td>\n",
       "      <td>17.09</td>\n",
       "      <td>2993.0</td>\n",
       "      <td>BMW 6</td>\n",
       "    </tr>\n",
       "    <tr>\n",
       "      <th>5258</th>\n",
       "      <td>Mercedes-Benz S-Class S 350 CDI</td>\n",
       "      <td>2017</td>\n",
       "      <td>6000000</td>\n",
       "      <td>37000</td>\n",
       "      <td>Diesel</td>\n",
       "      <td>Dealer</td>\n",
       "      <td>Automatic</td>\n",
       "      <td>First Owner</td>\n",
       "      <td>13.50</td>\n",
       "      <td>2987.0</td>\n",
       "      <td>Mercedes-Benz S-Class</td>\n",
       "    </tr>\n",
       "    <tr>\n",
       "      <th>7713</th>\n",
       "      <td>Mercedes-Benz S-Class S 350 CDI</td>\n",
       "      <td>2017</td>\n",
       "      <td>6000000</td>\n",
       "      <td>37000</td>\n",
       "      <td>Diesel</td>\n",
       "      <td>Dealer</td>\n",
       "      <td>Automatic</td>\n",
       "      <td>First Owner</td>\n",
       "      <td>13.50</td>\n",
       "      <td>2987.0</td>\n",
       "      <td>Mercedes-Benz S-Class</td>\n",
       "    </tr>\n",
       "  </tbody>\n",
       "</table>\n",
       "</div>"
      ],
      "text/plain": [
       "                                  name  year  selling_price  km_driven  \\\n",
       "136    Mercedes-Benz S-Class S 350 CDI  2017        6000000      37000   \n",
       "148    Mercedes-Benz S-Class S 350 CDI  2017        5850000      47000   \n",
       "170      Volvo XC90 T8 Excellence BSIV  2017       10000000      30000   \n",
       "1071  BMW 6 Series GT 630d Luxury Line  2018        6000000      28156   \n",
       "2938             BMW X7 xDrive 30d DPE  2020        7200000       5000   \n",
       "4101  BMW 6 Series GT 630d Luxury Line  2018        6000000      28156   \n",
       "4766  BMW 6 Series GT 630d Luxury Line  2018        6000000      27000   \n",
       "5258   Mercedes-Benz S-Class S 350 CDI  2017        6000000      37000   \n",
       "7713   Mercedes-Benz S-Class S 350 CDI  2017        6000000      37000   \n",
       "\n",
       "        fuel seller_type transmission        owner  mileage  engine  \\\n",
       "136   Diesel      Dealer    Automatic  First Owner    13.50  2987.0   \n",
       "148   Diesel      Dealer    Automatic  First Owner    13.50  2987.0   \n",
       "170   Petrol  Individual    Automatic  First Owner    42.00  1969.0   \n",
       "1071  Diesel      Dealer    Automatic  First Owner    17.09  2993.0   \n",
       "2938  Diesel  Individual    Automatic  First Owner    13.38  2993.0   \n",
       "4101  Diesel      Dealer    Automatic  First Owner    17.09  2993.0   \n",
       "4766  Diesel      Dealer    Automatic  First Owner    17.09  2993.0   \n",
       "5258  Diesel      Dealer    Automatic  First Owner    13.50  2987.0   \n",
       "7713  Diesel      Dealer    Automatic  First Owner    13.50  2987.0   \n",
       "\n",
       "              comp_car_name  \n",
       "136   Mercedes-Benz S-Class  \n",
       "148   Mercedes-Benz S-Class  \n",
       "170              Volvo XC90  \n",
       "1071                  BMW 6  \n",
       "2938                 BMW X7  \n",
       "4101                  BMW 6  \n",
       "4766                  BMW 6  \n",
       "5258  Mercedes-Benz S-Class  \n",
       "7713  Mercedes-Benz S-Class  "
      ]
     },
     "execution_count": 45,
     "metadata": {},
     "output_type": "execute_result"
    }
   ],
   "source": [
    "# let's see the data which are below the range of upper limit\n",
    "\n",
    "df.loc[df.selling_price > upper_limit]"
   ]
  },
  {
   "cell_type": "markdown",
   "metadata": {},
   "source": [
    "##### Observation:\n",
    "- Here selling price data are not normally distributed it's right skewed because most of the car price are high\n",
    "- Lower selling price is 29999 of maruti car and Higher price is 10000000 of Volvo car these are normal it's not an outlier"
   ]
  },
  {
   "cell_type": "markdown",
   "metadata": {},
   "source": [
    "## Feature Engineering"
   ]
  },
  {
   "cell_type": "code",
   "execution_count": 46,
   "metadata": {},
   "outputs": [
    {
     "data": {
      "text/html": [
       "<div>\n",
       "<style scoped>\n",
       "    .dataframe tbody tr th:only-of-type {\n",
       "        vertical-align: middle;\n",
       "    }\n",
       "\n",
       "    .dataframe tbody tr th {\n",
       "        vertical-align: top;\n",
       "    }\n",
       "\n",
       "    .dataframe thead th {\n",
       "        text-align: right;\n",
       "    }\n",
       "</style>\n",
       "<table border=\"1\" class=\"dataframe\">\n",
       "  <thead>\n",
       "    <tr style=\"text-align: right;\">\n",
       "      <th></th>\n",
       "      <th>name</th>\n",
       "      <th>year</th>\n",
       "      <th>selling_price</th>\n",
       "      <th>km_driven</th>\n",
       "      <th>fuel</th>\n",
       "      <th>seller_type</th>\n",
       "      <th>transmission</th>\n",
       "      <th>owner</th>\n",
       "      <th>mileage</th>\n",
       "      <th>engine</th>\n",
       "      <th>comp_car_name</th>\n",
       "    </tr>\n",
       "  </thead>\n",
       "  <tbody>\n",
       "    <tr>\n",
       "      <th>6037</th>\n",
       "      <td>1428</td>\n",
       "      <td>2017</td>\n",
       "      <td>700000</td>\n",
       "      <td>40000</td>\n",
       "      <td>Diesel</td>\n",
       "      <td>Individual</td>\n",
       "      <td>Manual</td>\n",
       "      <td>First Owner</td>\n",
       "      <td>18.49</td>\n",
       "      <td>1493.0</td>\n",
       "      <td>Mahindra TUV</td>\n",
       "    </tr>\n",
       "    <tr>\n",
       "      <th>2151</th>\n",
       "      <td>363</td>\n",
       "      <td>2010</td>\n",
       "      <td>200000</td>\n",
       "      <td>80000</td>\n",
       "      <td>Petrol</td>\n",
       "      <td>Individual</td>\n",
       "      <td>Manual</td>\n",
       "      <td>Second Owner</td>\n",
       "      <td>18.90</td>\n",
       "      <td>1061.0</td>\n",
       "      <td>Maruti Wagon</td>\n",
       "    </tr>\n",
       "    <tr>\n",
       "      <th>2680</th>\n",
       "      <td>1397</td>\n",
       "      <td>2016</td>\n",
       "      <td>645000</td>\n",
       "      <td>11000</td>\n",
       "      <td>Petrol</td>\n",
       "      <td>Dealer</td>\n",
       "      <td>Automatic</td>\n",
       "      <td>First Owner</td>\n",
       "      <td>14.30</td>\n",
       "      <td>1598.0</td>\n",
       "      <td>Skoda Rapid</td>\n",
       "    </tr>\n",
       "  </tbody>\n",
       "</table>\n",
       "</div>"
      ],
      "text/plain": [
       "      name  year  selling_price  km_driven    fuel seller_type transmission  \\\n",
       "6037  1428  2017         700000      40000  Diesel  Individual       Manual   \n",
       "2151   363  2010         200000      80000  Petrol  Individual       Manual   \n",
       "2680  1397  2016         645000      11000  Petrol      Dealer    Automatic   \n",
       "\n",
       "             owner  mileage  engine comp_car_name  \n",
       "6037   First Owner    18.49  1493.0  Mahindra TUV  \n",
       "2151  Second Owner    18.90  1061.0  Maruti Wagon  \n",
       "2680   First Owner    14.30  1598.0   Skoda Rapid  "
      ]
     },
     "execution_count": 46,
     "metadata": {},
     "output_type": "execute_result"
    }
   ],
   "source": [
    "# let's do target guided label encoding for name columns\n",
    "\n",
    "car_name_encoded = df.groupby(\"name\").selling_price.mean().sort_values().reset_index().drop(columns=\"selling_price\")\n",
    "\n",
    "# converting name and index value into dict using zip then map it with origial series\n",
    "df.name = df.name.map(dict(zip(car_name_encoded.name, car_name_encoded.index)))\n",
    "df.sample(3)"
   ]
  },
  {
   "cell_type": "code",
   "execution_count": 47,
   "metadata": {},
   "outputs": [
    {
     "data": {
      "text/html": [
       "<div>\n",
       "<style scoped>\n",
       "    .dataframe tbody tr th:only-of-type {\n",
       "        vertical-align: middle;\n",
       "    }\n",
       "\n",
       "    .dataframe tbody tr th {\n",
       "        vertical-align: top;\n",
       "    }\n",
       "\n",
       "    .dataframe thead th {\n",
       "        text-align: right;\n",
       "    }\n",
       "</style>\n",
       "<table border=\"1\" class=\"dataframe\">\n",
       "  <thead>\n",
       "    <tr style=\"text-align: right;\">\n",
       "      <th></th>\n",
       "      <th>name</th>\n",
       "      <th>year</th>\n",
       "      <th>selling_price</th>\n",
       "      <th>km_driven</th>\n",
       "      <th>fuel</th>\n",
       "      <th>seller_type</th>\n",
       "      <th>transmission</th>\n",
       "      <th>owner</th>\n",
       "      <th>mileage</th>\n",
       "      <th>engine</th>\n",
       "      <th>comp_car_name</th>\n",
       "    </tr>\n",
       "  </thead>\n",
       "  <tbody>\n",
       "    <tr>\n",
       "      <th>1524</th>\n",
       "      <td>499</td>\n",
       "      <td>2017</td>\n",
       "      <td>300000</td>\n",
       "      <td>50000</td>\n",
       "      <td>2</td>\n",
       "      <td>Individual</td>\n",
       "      <td>Manual</td>\n",
       "      <td>Second Owner</td>\n",
       "      <td>24.70</td>\n",
       "      <td>796.0</td>\n",
       "      <td>Maruti Alto</td>\n",
       "    </tr>\n",
       "    <tr>\n",
       "      <th>1889</th>\n",
       "      <td>229</td>\n",
       "      <td>2006</td>\n",
       "      <td>120000</td>\n",
       "      <td>120000</td>\n",
       "      <td>2</td>\n",
       "      <td>Individual</td>\n",
       "      <td>Manual</td>\n",
       "      <td>Fourth &amp; Above Owner</td>\n",
       "      <td>19.70</td>\n",
       "      <td>796.0</td>\n",
       "      <td>Maruti Alto</td>\n",
       "    </tr>\n",
       "    <tr>\n",
       "      <th>6034</th>\n",
       "      <td>298</td>\n",
       "      <td>2010</td>\n",
       "      <td>142000</td>\n",
       "      <td>49200</td>\n",
       "      <td>2</td>\n",
       "      <td>Individual</td>\n",
       "      <td>Manual</td>\n",
       "      <td>Second Owner</td>\n",
       "      <td>19.81</td>\n",
       "      <td>1086.0</td>\n",
       "      <td>Hyundai i10</td>\n",
       "    </tr>\n",
       "  </tbody>\n",
       "</table>\n",
       "</div>"
      ],
      "text/plain": [
       "      name  year  selling_price  km_driven  fuel seller_type transmission  \\\n",
       "1524   499  2017         300000      50000     2  Individual       Manual   \n",
       "1889   229  2006         120000     120000     2  Individual       Manual   \n",
       "6034   298  2010         142000      49200     2  Individual       Manual   \n",
       "\n",
       "                     owner  mileage  engine comp_car_name  \n",
       "1524          Second Owner    24.70   796.0   Maruti Alto  \n",
       "1889  Fourth & Above Owner    19.70   796.0   Maruti Alto  \n",
       "6034          Second Owner    19.81  1086.0   Hyundai i10  "
      ]
     },
     "execution_count": 47,
     "metadata": {},
     "output_type": "execute_result"
    }
   ],
   "source": [
    "# let's do target guided label encoding for fuel type bcz diesel cars has high price compare to other\n",
    "\n",
    "fuel_encoded = df.groupby(\"fuel\").selling_price.mean().sort_values().reset_index().drop(columns=\"selling_price\")\n",
    "\n",
    "# converting fuel and index value into dict using zip then map it with original series\n",
    "df.fuel = df.fuel.map(dict(zip(fuel_encoded.fuel, fuel_encoded.index)))\n",
    "df.sample(3)"
   ]
  },
  {
   "cell_type": "code",
   "execution_count": 48,
   "metadata": {},
   "outputs": [
    {
     "data": {
      "text/html": [
       "<div>\n",
       "<style scoped>\n",
       "    .dataframe tbody tr th:only-of-type {\n",
       "        vertical-align: middle;\n",
       "    }\n",
       "\n",
       "    .dataframe tbody tr th {\n",
       "        vertical-align: top;\n",
       "    }\n",
       "\n",
       "    .dataframe thead th {\n",
       "        text-align: right;\n",
       "    }\n",
       "</style>\n",
       "<table border=\"1\" class=\"dataframe\">\n",
       "  <thead>\n",
       "    <tr style=\"text-align: right;\">\n",
       "      <th></th>\n",
       "      <th>name</th>\n",
       "      <th>year</th>\n",
       "      <th>selling_price</th>\n",
       "      <th>km_driven</th>\n",
       "      <th>fuel</th>\n",
       "      <th>seller_type</th>\n",
       "      <th>transmission</th>\n",
       "      <th>owner</th>\n",
       "      <th>mileage</th>\n",
       "      <th>engine</th>\n",
       "      <th>comp_car_name</th>\n",
       "    </tr>\n",
       "  </thead>\n",
       "  <tbody>\n",
       "    <tr>\n",
       "      <th>6706</th>\n",
       "      <td>1397</td>\n",
       "      <td>2016</td>\n",
       "      <td>645000</td>\n",
       "      <td>11000</td>\n",
       "      <td>2</td>\n",
       "      <td>2</td>\n",
       "      <td>Automatic</td>\n",
       "      <td>First Owner</td>\n",
       "      <td>14.30</td>\n",
       "      <td>1598.0</td>\n",
       "      <td>Skoda Rapid</td>\n",
       "    </tr>\n",
       "    <tr>\n",
       "      <th>3366</th>\n",
       "      <td>1174</td>\n",
       "      <td>2016</td>\n",
       "      <td>530000</td>\n",
       "      <td>120000</td>\n",
       "      <td>2</td>\n",
       "      <td>0</td>\n",
       "      <td>Manual</td>\n",
       "      <td>Second Owner</td>\n",
       "      <td>17.19</td>\n",
       "      <td>1197.0</td>\n",
       "      <td>Hyundai i20</td>\n",
       "    </tr>\n",
       "    <tr>\n",
       "      <th>1469</th>\n",
       "      <td>484</td>\n",
       "      <td>2003</td>\n",
       "      <td>300000</td>\n",
       "      <td>98000</td>\n",
       "      <td>3</td>\n",
       "      <td>0</td>\n",
       "      <td>Manual</td>\n",
       "      <td>First Owner</td>\n",
       "      <td>10.50</td>\n",
       "      <td>2179.0</td>\n",
       "      <td>Mahindra Scorpio</td>\n",
       "    </tr>\n",
       "  </tbody>\n",
       "</table>\n",
       "</div>"
      ],
      "text/plain": [
       "      name  year  selling_price  km_driven  fuel  seller_type transmission  \\\n",
       "6706  1397  2016         645000      11000     2            2    Automatic   \n",
       "3366  1174  2016         530000     120000     2            0       Manual   \n",
       "1469   484  2003         300000      98000     3            0       Manual   \n",
       "\n",
       "             owner  mileage  engine     comp_car_name  \n",
       "6706   First Owner    14.30  1598.0       Skoda Rapid  \n",
       "3366  Second Owner    17.19  1197.0       Hyundai i20  \n",
       "1469   First Owner    10.50  2179.0  Mahindra Scorpio  "
      ]
     },
     "execution_count": 48,
     "metadata": {},
     "output_type": "execute_result"
    }
   ],
   "source": [
    "# let's encode seller_type using target guided encoding\n",
    "\n",
    "seller_type_encoded = df.groupby(\"seller_type\").selling_price.mean().sort_values().reset_index().drop(columns=\"selling_price\")\n",
    "\n",
    "# creating dict using enumerator and key as count value and value as seller_type_encoded value then map it with original series\n",
    "df.seller_type = df.seller_type.map({k:v for v, k in enumerate(seller_type_encoded.seller_type, 0)})\n",
    "df.sample(3)"
   ]
  },
  {
   "cell_type": "code",
   "execution_count": 49,
   "metadata": {},
   "outputs": [
    {
     "data": {
      "text/html": [
       "<div>\n",
       "<style scoped>\n",
       "    .dataframe tbody tr th:only-of-type {\n",
       "        vertical-align: middle;\n",
       "    }\n",
       "\n",
       "    .dataframe tbody tr th {\n",
       "        vertical-align: top;\n",
       "    }\n",
       "\n",
       "    .dataframe thead th {\n",
       "        text-align: right;\n",
       "    }\n",
       "</style>\n",
       "<table border=\"1\" class=\"dataframe\">\n",
       "  <thead>\n",
       "    <tr style=\"text-align: right;\">\n",
       "      <th></th>\n",
       "      <th>name</th>\n",
       "      <th>year</th>\n",
       "      <th>selling_price</th>\n",
       "      <th>km_driven</th>\n",
       "      <th>fuel</th>\n",
       "      <th>seller_type</th>\n",
       "      <th>transmission</th>\n",
       "      <th>owner</th>\n",
       "      <th>mileage</th>\n",
       "      <th>engine</th>\n",
       "      <th>comp_car_name</th>\n",
       "      <th>transmission_Manual</th>\n",
       "    </tr>\n",
       "  </thead>\n",
       "  <tbody>\n",
       "    <tr>\n",
       "      <th>4834</th>\n",
       "      <td>928</td>\n",
       "      <td>2016</td>\n",
       "      <td>380000</td>\n",
       "      <td>80000</td>\n",
       "      <td>3</td>\n",
       "      <td>0</td>\n",
       "      <td>Manual</td>\n",
       "      <td>Second Owner</td>\n",
       "      <td>24.40</td>\n",
       "      <td>1120.0</td>\n",
       "      <td>Hyundai Xcent</td>\n",
       "      <td>1</td>\n",
       "    </tr>\n",
       "    <tr>\n",
       "      <th>5481</th>\n",
       "      <td>1430</td>\n",
       "      <td>2016</td>\n",
       "      <td>616000</td>\n",
       "      <td>112000</td>\n",
       "      <td>3</td>\n",
       "      <td>0</td>\n",
       "      <td>Manual</td>\n",
       "      <td>First Owner</td>\n",
       "      <td>22.54</td>\n",
       "      <td>1396.0</td>\n",
       "      <td>Hyundai i20</td>\n",
       "      <td>1</td>\n",
       "    </tr>\n",
       "    <tr>\n",
       "      <th>999</th>\n",
       "      <td>35</td>\n",
       "      <td>1999</td>\n",
       "      <td>55000</td>\n",
       "      <td>60000</td>\n",
       "      <td>2</td>\n",
       "      <td>0</td>\n",
       "      <td>Manual</td>\n",
       "      <td>Second Owner</td>\n",
       "      <td>16.10</td>\n",
       "      <td>796.0</td>\n",
       "      <td>Maruti 800</td>\n",
       "      <td>1</td>\n",
       "    </tr>\n",
       "  </tbody>\n",
       "</table>\n",
       "</div>"
      ],
      "text/plain": [
       "      name  year  selling_price  km_driven  fuel  seller_type transmission  \\\n",
       "4834   928  2016         380000      80000     3            0       Manual   \n",
       "5481  1430  2016         616000     112000     3            0       Manual   \n",
       "999     35  1999          55000      60000     2            0       Manual   \n",
       "\n",
       "             owner  mileage  engine  comp_car_name  transmission_Manual  \n",
       "4834  Second Owner    24.40  1120.0  Hyundai Xcent                    1  \n",
       "5481   First Owner    22.54  1396.0    Hyundai i20                    1  \n",
       "999   Second Owner    16.10   796.0     Maruti 800                    1  "
      ]
     },
     "execution_count": 49,
     "metadata": {},
     "output_type": "execute_result"
    }
   ],
   "source": [
    "# let's encode transmission using one hot encoding\n",
    "# in transmission column we have two values Manual and Automatic\n",
    "\n",
    "transmission_encoded = pd.get_dummies(df.transmission, prefix=\"transmission\", drop_first=True)\n",
    "# here droping first value to prevent dummy variable trap, first value was Automatic so 0 will represent that value\n",
    "\n",
    "# let's concat encoded transmission series with main_data data frame\n",
    "\n",
    "df = pd.concat([df, transmission_encoded], axis=1)\n",
    "df.sample(3)"
   ]
  },
  {
   "cell_type": "code",
   "execution_count": 50,
   "metadata": {},
   "outputs": [
    {
     "data": {
      "text/html": [
       "<div>\n",
       "<style scoped>\n",
       "    .dataframe tbody tr th:only-of-type {\n",
       "        vertical-align: middle;\n",
       "    }\n",
       "\n",
       "    .dataframe tbody tr th {\n",
       "        vertical-align: top;\n",
       "    }\n",
       "\n",
       "    .dataframe thead th {\n",
       "        text-align: right;\n",
       "    }\n",
       "</style>\n",
       "<table border=\"1\" class=\"dataframe\">\n",
       "  <thead>\n",
       "    <tr style=\"text-align: right;\">\n",
       "      <th></th>\n",
       "      <th>name</th>\n",
       "      <th>year</th>\n",
       "      <th>selling_price</th>\n",
       "      <th>km_driven</th>\n",
       "      <th>fuel</th>\n",
       "      <th>seller_type</th>\n",
       "      <th>transmission</th>\n",
       "      <th>owner</th>\n",
       "      <th>mileage</th>\n",
       "      <th>engine</th>\n",
       "      <th>comp_car_name</th>\n",
       "      <th>transmission_Manual</th>\n",
       "    </tr>\n",
       "  </thead>\n",
       "  <tbody>\n",
       "    <tr>\n",
       "      <th>1954</th>\n",
       "      <td>229</td>\n",
       "      <td>2014</td>\n",
       "      <td>110000</td>\n",
       "      <td>50000</td>\n",
       "      <td>2</td>\n",
       "      <td>0</td>\n",
       "      <td>Manual</td>\n",
       "      <td>2</td>\n",
       "      <td>19.70</td>\n",
       "      <td>796.0</td>\n",
       "      <td>Maruti Alto</td>\n",
       "      <td>1</td>\n",
       "    </tr>\n",
       "    <tr>\n",
       "      <th>5634</th>\n",
       "      <td>1048</td>\n",
       "      <td>2016</td>\n",
       "      <td>488000</td>\n",
       "      <td>80000</td>\n",
       "      <td>2</td>\n",
       "      <td>0</td>\n",
       "      <td>Manual</td>\n",
       "      <td>2</td>\n",
       "      <td>20.85</td>\n",
       "      <td>1197.0</td>\n",
       "      <td>Maruti Swift</td>\n",
       "      <td>1</td>\n",
       "    </tr>\n",
       "    <tr>\n",
       "      <th>1419</th>\n",
       "      <td>431</td>\n",
       "      <td>2014</td>\n",
       "      <td>220000</td>\n",
       "      <td>50000</td>\n",
       "      <td>2</td>\n",
       "      <td>0</td>\n",
       "      <td>Manual</td>\n",
       "      <td>3</td>\n",
       "      <td>21.10</td>\n",
       "      <td>814.0</td>\n",
       "      <td>Hyundai EON</td>\n",
       "      <td>1</td>\n",
       "    </tr>\n",
       "  </tbody>\n",
       "</table>\n",
       "</div>"
      ],
      "text/plain": [
       "      name  year  selling_price  km_driven  fuel  seller_type transmission  \\\n",
       "1954   229  2014         110000      50000     2            0       Manual   \n",
       "5634  1048  2016         488000      80000     2            0       Manual   \n",
       "1419   431  2014         220000      50000     2            0       Manual   \n",
       "\n",
       "      owner  mileage  engine comp_car_name  transmission_Manual  \n",
       "1954      2    19.70   796.0   Maruti Alto                    1  \n",
       "5634      2    20.85  1197.0  Maruti Swift                    1  \n",
       "1419      3    21.10   814.0   Hyundai EON                    1  "
      ]
     },
     "execution_count": 50,
     "metadata": {},
     "output_type": "execute_result"
    }
   ],
   "source": [
    "# let's split owner value and encode it according to it's number\n",
    "\n",
    "df.owner = df.owner.apply(lambda x: str(x).split()[0])\n",
    "\n",
    "# now let's do label encoding\n",
    "\n",
    "df.owner = df.owner.map({\"First\": 1, \"Second\": 2, \"Third\": 3, \"Fourth\": 4})\n",
    "df.sample(3)"
   ]
  },
  {
   "cell_type": "code",
   "execution_count": 51,
   "metadata": {},
   "outputs": [],
   "source": [
    "# let's drop tranmsission and comp_car_name and make a final_data data frame\n",
    "\n",
    "data = df.drop(columns = [\"transmission\", \"comp_car_name\"]).copy()"
   ]
  },
  {
   "cell_type": "code",
   "execution_count": 52,
   "metadata": {},
   "outputs": [
    {
     "data": {
      "text/html": [
       "<div>\n",
       "<style scoped>\n",
       "    .dataframe tbody tr th:only-of-type {\n",
       "        vertical-align: middle;\n",
       "    }\n",
       "\n",
       "    .dataframe tbody tr th {\n",
       "        vertical-align: top;\n",
       "    }\n",
       "\n",
       "    .dataframe thead th {\n",
       "        text-align: right;\n",
       "    }\n",
       "</style>\n",
       "<table border=\"1\" class=\"dataframe\">\n",
       "  <thead>\n",
       "    <tr style=\"text-align: right;\">\n",
       "      <th></th>\n",
       "      <th>name</th>\n",
       "      <th>year</th>\n",
       "      <th>selling_price</th>\n",
       "      <th>km_driven</th>\n",
       "      <th>fuel</th>\n",
       "      <th>seller_type</th>\n",
       "      <th>owner</th>\n",
       "      <th>mileage</th>\n",
       "      <th>engine</th>\n",
       "      <th>transmission_Manual</th>\n",
       "    </tr>\n",
       "  </thead>\n",
       "  <tbody>\n",
       "    <tr>\n",
       "      <th>0</th>\n",
       "      <td>1289</td>\n",
       "      <td>2014</td>\n",
       "      <td>450000</td>\n",
       "      <td>145500</td>\n",
       "      <td>3</td>\n",
       "      <td>0</td>\n",
       "      <td>1</td>\n",
       "      <td>23.40</td>\n",
       "      <td>1248.0</td>\n",
       "      <td>1</td>\n",
       "    </tr>\n",
       "    <tr>\n",
       "      <th>1</th>\n",
       "      <td>1200</td>\n",
       "      <td>2014</td>\n",
       "      <td>370000</td>\n",
       "      <td>120000</td>\n",
       "      <td>3</td>\n",
       "      <td>0</td>\n",
       "      <td>2</td>\n",
       "      <td>21.14</td>\n",
       "      <td>1498.0</td>\n",
       "      <td>1</td>\n",
       "    </tr>\n",
       "    <tr>\n",
       "      <th>2</th>\n",
       "      <td>259</td>\n",
       "      <td>2006</td>\n",
       "      <td>158000</td>\n",
       "      <td>140000</td>\n",
       "      <td>2</td>\n",
       "      <td>0</td>\n",
       "      <td>3</td>\n",
       "      <td>17.70</td>\n",
       "      <td>1497.0</td>\n",
       "      <td>1</td>\n",
       "    </tr>\n",
       "    <tr>\n",
       "      <th>3</th>\n",
       "      <td>391</td>\n",
       "      <td>2010</td>\n",
       "      <td>225000</td>\n",
       "      <td>127000</td>\n",
       "      <td>3</td>\n",
       "      <td>0</td>\n",
       "      <td>1</td>\n",
       "      <td>23.00</td>\n",
       "      <td>1396.0</td>\n",
       "      <td>1</td>\n",
       "    </tr>\n",
       "    <tr>\n",
       "      <th>4</th>\n",
       "      <td>226</td>\n",
       "      <td>2007</td>\n",
       "      <td>130000</td>\n",
       "      <td>120000</td>\n",
       "      <td>2</td>\n",
       "      <td>0</td>\n",
       "      <td>1</td>\n",
       "      <td>16.10</td>\n",
       "      <td>1298.0</td>\n",
       "      <td>1</td>\n",
       "    </tr>\n",
       "  </tbody>\n",
       "</table>\n",
       "</div>"
      ],
      "text/plain": [
       "   name  year  selling_price  km_driven  fuel  seller_type  owner  mileage  \\\n",
       "0  1289  2014         450000     145500     3            0      1    23.40   \n",
       "1  1200  2014         370000     120000     3            0      2    21.14   \n",
       "2   259  2006         158000     140000     2            0      3    17.70   \n",
       "3   391  2010         225000     127000     3            0      1    23.00   \n",
       "4   226  2007         130000     120000     2            0      1    16.10   \n",
       "\n",
       "   engine  transmission_Manual  \n",
       "0  1248.0                    1  \n",
       "1  1498.0                    1  \n",
       "2  1497.0                    1  \n",
       "3  1396.0                    1  \n",
       "4  1298.0                    1  "
      ]
     },
     "execution_count": 52,
     "metadata": {},
     "output_type": "execute_result"
    }
   ],
   "source": [
    "data.head(5)"
   ]
  },
  {
   "cell_type": "code",
   "execution_count": 53,
   "metadata": {},
   "outputs": [],
   "source": [
    "# selecting features\n",
    "\n",
    "X = data.drop(columns=\"selling_price\")\n",
    "Y = data.selling_price"
   ]
  },
  {
   "cell_type": "code",
   "execution_count": 54,
   "metadata": {},
   "outputs": [
    {
     "data": {
      "text/html": [
       "<div>\n",
       "<style scoped>\n",
       "    .dataframe tbody tr th:only-of-type {\n",
       "        vertical-align: middle;\n",
       "    }\n",
       "\n",
       "    .dataframe tbody tr th {\n",
       "        vertical-align: top;\n",
       "    }\n",
       "\n",
       "    .dataframe thead th {\n",
       "        text-align: right;\n",
       "    }\n",
       "</style>\n",
       "<table border=\"1\" class=\"dataframe\">\n",
       "  <thead>\n",
       "    <tr style=\"text-align: right;\">\n",
       "      <th></th>\n",
       "      <th>name</th>\n",
       "      <th>year</th>\n",
       "      <th>km_driven</th>\n",
       "      <th>fuel</th>\n",
       "      <th>seller_type</th>\n",
       "      <th>owner</th>\n",
       "      <th>mileage</th>\n",
       "      <th>engine</th>\n",
       "      <th>transmission_Manual</th>\n",
       "    </tr>\n",
       "  </thead>\n",
       "  <tbody>\n",
       "    <tr>\n",
       "      <th>0</th>\n",
       "      <td>1289</td>\n",
       "      <td>2014</td>\n",
       "      <td>145500</td>\n",
       "      <td>3</td>\n",
       "      <td>0</td>\n",
       "      <td>1</td>\n",
       "      <td>23.40</td>\n",
       "      <td>1248.0</td>\n",
       "      <td>1</td>\n",
       "    </tr>\n",
       "    <tr>\n",
       "      <th>1</th>\n",
       "      <td>1200</td>\n",
       "      <td>2014</td>\n",
       "      <td>120000</td>\n",
       "      <td>3</td>\n",
       "      <td>0</td>\n",
       "      <td>2</td>\n",
       "      <td>21.14</td>\n",
       "      <td>1498.0</td>\n",
       "      <td>1</td>\n",
       "    </tr>\n",
       "    <tr>\n",
       "      <th>2</th>\n",
       "      <td>259</td>\n",
       "      <td>2006</td>\n",
       "      <td>140000</td>\n",
       "      <td>2</td>\n",
       "      <td>0</td>\n",
       "      <td>3</td>\n",
       "      <td>17.70</td>\n",
       "      <td>1497.0</td>\n",
       "      <td>1</td>\n",
       "    </tr>\n",
       "    <tr>\n",
       "      <th>3</th>\n",
       "      <td>391</td>\n",
       "      <td>2010</td>\n",
       "      <td>127000</td>\n",
       "      <td>3</td>\n",
       "      <td>0</td>\n",
       "      <td>1</td>\n",
       "      <td>23.00</td>\n",
       "      <td>1396.0</td>\n",
       "      <td>1</td>\n",
       "    </tr>\n",
       "    <tr>\n",
       "      <th>4</th>\n",
       "      <td>226</td>\n",
       "      <td>2007</td>\n",
       "      <td>120000</td>\n",
       "      <td>2</td>\n",
       "      <td>0</td>\n",
       "      <td>1</td>\n",
       "      <td>16.10</td>\n",
       "      <td>1298.0</td>\n",
       "      <td>1</td>\n",
       "    </tr>\n",
       "  </tbody>\n",
       "</table>\n",
       "</div>"
      ],
      "text/plain": [
       "   name  year  km_driven  fuel  seller_type  owner  mileage  engine  \\\n",
       "0  1289  2014     145500     3            0      1    23.40  1248.0   \n",
       "1  1200  2014     120000     3            0      2    21.14  1498.0   \n",
       "2   259  2006     140000     2            0      3    17.70  1497.0   \n",
       "3   391  2010     127000     3            0      1    23.00  1396.0   \n",
       "4   226  2007     120000     2            0      1    16.10  1298.0   \n",
       "\n",
       "   transmission_Manual  \n",
       "0                    1  \n",
       "1                    1  \n",
       "2                    1  \n",
       "3                    1  \n",
       "4                    1  "
      ]
     },
     "execution_count": 54,
     "metadata": {},
     "output_type": "execute_result"
    }
   ],
   "source": [
    "X.head()"
   ]
  },
  {
   "cell_type": "code",
   "execution_count": 55,
   "metadata": {},
   "outputs": [
    {
     "data": {
      "text/plain": [
       "0    450000\n",
       "1    370000\n",
       "2    158000\n",
       "3    225000\n",
       "4    130000\n",
       "Name: selling_price, dtype: int64"
      ]
     },
     "execution_count": 55,
     "metadata": {},
     "output_type": "execute_result"
    }
   ],
   "source": [
    "Y.head()"
   ]
  },
  {
   "cell_type": "markdown",
   "metadata": {},
   "source": [
    "## Train Test split"
   ]
  },
  {
   "cell_type": "code",
   "execution_count": 52,
   "metadata": {},
   "outputs": [],
   "source": [
    "from sklearn.model_selection import train_test_split\n",
    "\n",
    "X_train, X_test, Y_train, Y_test = train_test_split(X, Y, test_size=0.2, random_state=4)"
   ]
  },
  {
   "cell_type": "markdown",
   "metadata": {},
   "source": [
    "## Model Building\n",
    "#### Model training using following algorithms\n",
    "- Linear Regression\n",
    "- Decision tree Regressor\n",
    "- Random forest Regressor\n"
   ]
  },
  {
   "cell_type": "markdown",
   "metadata": {},
   "source": [
    "#### 1.Linear Regression"
   ]
  },
  {
   "cell_type": "code",
   "execution_count": 53,
   "metadata": {},
   "outputs": [
    {
     "data": {
      "text/plain": [
       "LinearRegression()"
      ]
     },
     "execution_count": 53,
     "metadata": {},
     "output_type": "execute_result"
    }
   ],
   "source": [
    "from sklearn.linear_model import LinearRegression\n",
    "lr = LinearRegression()\n",
    "lr.fit(X_train,Y_train)"
   ]
  },
  {
   "cell_type": "code",
   "execution_count": 54,
   "metadata": {},
   "outputs": [],
   "source": [
    "Y_pred_lr = lr.predict(X_test)"
   ]
  },
  {
   "cell_type": "markdown",
   "metadata": {},
   "source": [
    "#### Decision Tree Regressor"
   ]
  },
  {
   "cell_type": "code",
   "execution_count": 55,
   "metadata": {},
   "outputs": [
    {
     "data": {
      "text/plain": [
       "DecisionTreeRegressor()"
      ]
     },
     "execution_count": 55,
     "metadata": {},
     "output_type": "execute_result"
    }
   ],
   "source": [
    "from sklearn.tree import DecisionTreeRegressor\n",
    "tree = DecisionTreeRegressor()\n",
    "tree.fit(X_train,Y_train)"
   ]
  },
  {
   "cell_type": "code",
   "execution_count": 56,
   "metadata": {},
   "outputs": [],
   "source": [
    "Y_pred_tree = tree.predict(X_test)"
   ]
  },
  {
   "cell_type": "markdown",
   "metadata": {},
   "source": [
    "#### Random Forest Regressor"
   ]
  },
  {
   "cell_type": "code",
   "execution_count": 57,
   "metadata": {},
   "outputs": [
    {
     "data": {
      "text/plain": [
       "RandomForestRegressor()"
      ]
     },
     "execution_count": 57,
     "metadata": {},
     "output_type": "execute_result"
    }
   ],
   "source": [
    "from sklearn.ensemble import RandomForestRegressor\n",
    "random = RandomForestRegressor()\n",
    "random.fit(X_train,Y_train)"
   ]
  },
  {
   "cell_type": "code",
   "execution_count": 58,
   "metadata": {},
   "outputs": [],
   "source": [
    "Y_pred_random = random.predict(X_test)"
   ]
  },
  {
   "cell_type": "markdown",
   "metadata": {},
   "source": [
    "## Model Evaluations"
   ]
  },
  {
   "cell_type": "code",
   "execution_count": 59,
   "metadata": {},
   "outputs": [],
   "source": [
    "from sklearn import metrics"
   ]
  },
  {
   "cell_type": "code",
   "execution_count": 60,
   "metadata": {},
   "outputs": [
    {
     "name": "stdout",
     "output_type": "stream",
     "text": [
      "Linear Regression:\n",
      "MAE:  262197.0285758723\n",
      "MSE:  229098333338.92978\n",
      "RMSE:  478642.17672383384\n",
      "R squared:  0.5777541335917691\n"
     ]
    }
   ],
   "source": [
    "print('Linear Regression:')\n",
    "print('MAE: ',metrics.mean_absolute_error(Y_test,Y_pred_lr))\n",
    "print('MSE: ',metrics.mean_squared_error(Y_test,Y_pred_lr))\n",
    "print('RMSE: ',np.sqrt(metrics.mean_squared_error(Y_test,Y_pred_lr)))\n",
    "print('R squared: ',metrics.r2_score(Y_test,Y_pred_lr))"
   ]
  },
  {
   "cell_type": "code",
   "execution_count": 61,
   "metadata": {},
   "outputs": [
    {
     "name": "stdout",
     "output_type": "stream",
     "text": [
      "Decision Tree Regressor:\n",
      "MAE:  56784.01181566851\n",
      "MSE:  12616440872.12719\n",
      "RMSE:  112322.93119451251\n",
      "R squared:  0.9767469281447875\n"
     ]
    }
   ],
   "source": [
    "print('Decision Tree Regressor:')\n",
    "print('MAE: ',metrics.mean_absolute_error(Y_test,Y_pred_tree))\n",
    "print('MSE: ',metrics.mean_squared_error(Y_test,Y_pred_tree))\n",
    "print('RMSE: ',np.sqrt(metrics.mean_squared_error(Y_test,Y_pred_tree)))\n",
    "print('R squared: ',metrics.r2_score(Y_test,Y_pred_tree))"
   ]
  },
  {
   "cell_type": "code",
   "execution_count": 62,
   "metadata": {},
   "outputs": [
    {
     "name": "stdout",
     "output_type": "stream",
     "text": [
      "Random Forest Regressor:\n",
      "MAE:  44244.210060940204\n",
      "MSE:  6646259529.462494\n",
      "RMSE:  81524.5946292436\n",
      "R squared:  0.9877504319979487\n"
     ]
    }
   ],
   "source": [
    "print('Random Forest Regressor:')\n",
    "print('MAE: ',metrics.mean_absolute_error(Y_test,Y_pred_random))\n",
    "print('MSE: ',metrics.mean_squared_error(Y_test,Y_pred_random))\n",
    "print('RMSE: ',np.sqrt(metrics.mean_squared_error(Y_test,Y_pred_random)))\n",
    "print('R squared: ',metrics.r2_score(Y_test,Y_pred_random))"
   ]
  },
  {
   "cell_type": "markdown",
   "metadata": {},
   "source": [
    "**After Fitting all the models here is my result that from all of the 3 algorithms Random Forest Regressor is somehow gives Test score**"
   ]
  },
  {
   "cell_type": "code",
   "execution_count": 64,
   "metadata": {},
   "outputs": [],
   "source": [
    "# let's save models and appropriate encoding files, it will help me to predict on web app\n",
    "\n",
    "# let's save encoded data frame as csv files, if save it in json format it will take more memory than csv file\n",
    "car_name_encoded.to_csv(\"car_name_encoded.csv\", index=False)\n",
    "fuel_encoded.to_csv(\"fuel_encoded.csv\", index=False)\n",
    "seller_type_encoded.to_csv(\"seller_type.csv\", index=False)\n",
    "\n",
    "# let's save the model into pickle file\n",
    "with open(\"car_price_model.pickle\", \"wb\") as f:\n",
    "    pickle.dump(random, f)"
   ]
  },
  {
   "cell_type": "code",
   "execution_count": null,
   "metadata": {},
   "outputs": [],
   "source": []
  }
 ],
 "metadata": {
  "kernelspec": {
   "display_name": "Python 3",
   "language": "python",
   "name": "python3"
  },
  "language_info": {
   "codemirror_mode": {
    "name": "ipython",
    "version": 3
   },
   "file_extension": ".py",
   "mimetype": "text/x-python",
   "name": "python",
   "nbconvert_exporter": "python",
   "pygments_lexer": "ipython3",
   "version": "3.7.6"
  }
 },
 "nbformat": 4,
 "nbformat_minor": 4
}
